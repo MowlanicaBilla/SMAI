{
 "cells": [
  {
   "cell_type": "markdown",
   "metadata": {},
   "source": [
    "## Question 1"
   ]
  },
  {
   "cell_type": "code",
   "execution_count": 54,
   "metadata": {},
   "outputs": [],
   "source": [
    "import numpy as np\n",
    "import pandas as pd\n",
    "import seaborn as sns\n",
    "import matplotlib.pyplot as plt\n",
    "from scipy import stats\n",
    "import random\n",
    "from copy import deepcopy\n",
    "from numpy import linalg as LA\n",
    "import pandas as pd\n",
    "from sklearn import neighbors\n",
    "import numpy as np\n",
    "from collections import Counter\n",
    "import matplotlib.pyplot as plt\n",
    "from matplotlib.colors import ListedColormap\n",
    "from sklearn.metrics import precision_recall_fscore_support\n",
    "from sklearn.metrics import accuracy_score\n",
    "from sklearn.model_selection import cross_val_score\n",
    "from sklearn.model_selection import KFold\n",
    "random.seed(42)"
   ]
  },
  {
   "cell_type": "code",
   "execution_count": 55,
   "metadata": {},
   "outputs": [],
   "source": [
    "train_df = pd.read_csv('intrusion_detection1/data.csv')"
   ]
  },
  {
   "cell_type": "code",
   "execution_count": 56,
   "metadata": {},
   "outputs": [],
   "source": [
    "from sklearn.model_selection import train_test_split\n",
    "X_train, X_test, y_train, y_test = train_test_split(train_df.iloc[:,:-1], train_df['xAttack'], test_size=0.2) "
   ]
  },
  {
   "cell_type": "code",
   "execution_count": 57,
   "metadata": {},
   "outputs": [],
   "source": [
    "#X_train"
   ]
  },
  {
   "cell_type": "markdown",
   "metadata": {},
   "source": [
    "#### Part-1:\n",
    "Do dimensionality reduction using PCA on given dataset"
   ]
  },
  {
   "cell_type": "code",
   "execution_count": 58,
   "metadata": {},
   "outputs": [],
   "source": [
    "class pca:\n",
    "    def __init__(self):\n",
    "        self.mean = 0\n",
    "        self.std = 0\n",
    "    def pca_data(self,X):\n",
    "        self.mean = X.mean()\n",
    "        self.std = X.std()\n",
    "        X_nor = (X - X.mean())/X.std()\n",
    "        #print(X_nor)\n",
    "        mean_vec = np.mean(X_nor, axis=0)\n",
    "        cov_mat = (X_nor - mean_vec).T.dot((X_nor - mean_vec)) / (X_nor.shape[0]-1)\n",
    "        eig_vals, eig_vecs = np.linalg.eig(cov_mat)\n",
    "        s = np.sum(eig_vals)\n",
    "        for i in range(len(eig_vals)):\n",
    "            v = np.sum(eig_vals[:i])/s\n",
    "            if v > 0.9:\n",
    "                re_err = v\n",
    "                self.k = i\n",
    "                break\n",
    "        #print(self.k)\n",
    "        #print(eig_vals)\n",
    "        tr_dt = np.dot(X_nor, eig_vecs.T[:self.k].T)\n",
    "        tr_re = np.dot(tr_dt,eig_vecs.T[:self.k])\n",
    "        #re_err = LA.norm((X_nor-tr_re),None)\n",
    "        return tr_dt, re_err\n",
    "    def pca_val(self, X):\n",
    "        X_nor = (X - self.mean)/self.std\n",
    "        cov_mat = (X_nor - mean_vec).T.dot((X_nor - mean_vec)) / (X_nor.shape[0]-1)\n",
    "        eig_vals, eig_vecs = np.linalg.eig(cov_mat)\n",
    "        tr_dt = np.dot(X_nor, eig_vecs.T[:self.k].T)\n",
    "        tr_re = np.dot(tr_dt,eig_vecs.T[:self.k])\n",
    "        return tr_dt"
   ]
  },
  {
   "cell_type": "code",
   "execution_count": 59,
   "metadata": {},
   "outputs": [],
   "source": [
    "pcacomp = pca()\n",
    "tr_dt, re_err = pcacomp.pca_data(train_df.drop('xAttack', axis=1))"
   ]
  },
  {
   "cell_type": "code",
   "execution_count": 60,
   "metadata": {},
   "outputs": [],
   "source": [
    "#re_err"
   ]
  },
  {
   "cell_type": "markdown",
   "metadata": {},
   "source": [
    "#### Part-2:\n",
    "Use the reduced dimensions from the first part and perform K-\n",
    "means clustering with k equal to five(number of classes in the data). Also calculate\n",
    "the purity of clusters with given class label. Purity is the fraction of actual class\n",
    "samples in that cluster. You are not allowed to use inbuilt function for K-means."
   ]
  },
  {
   "cell_type": "code",
   "execution_count": 61,
   "metadata": {},
   "outputs": [],
   "source": [
    "class kmeans:\n",
    "    def __init__(self, k):\n",
    "        self.k=5\n",
    "    def train(self,X):\n",
    "        centroid = random.sample(list(X), self.k)\n",
    "        C = np.asarray(centroid)\n",
    "        C_old = np.zeros(np.asarray(centroid).shape)\n",
    "        clusters = np.zeros(len(X))\n",
    "        error = self.dist(C, C_old, None)\n",
    "        while error != 0:\n",
    "            for i in range(len(X)):\n",
    "                distances = self.dist(X[i], C)\n",
    "                cluster = np.argmin(distances)\n",
    "                clusters[i] = cluster\n",
    "            C_old = deepcopy(C)\n",
    "            for i in range(self.k):\n",
    "                points = [X[j] for j in range(len(X)) if clusters[j] == i]\n",
    "                C[i] = np.mean(points, axis=0)\n",
    "            error = self.dist(C, C_old, None)\n",
    "        for i in range(len(X)):\n",
    "            distances = self.dist(X[i], C)\n",
    "            cluster = np.argmin(distances)\n",
    "            clusters[i] = cluster\n",
    "        return clusters\n",
    "    def dist(self, a, b, ax=1):\n",
    "        return np.linalg.norm(a - b, axis=ax)"
   ]
  },
  {
   "cell_type": "code",
   "execution_count": 62,
   "metadata": {},
   "outputs": [],
   "source": [
    "km = kmeans(k=5)\n",
    "labels0 = km.train(tr_dt)"
   ]
  },
  {
   "cell_type": "code",
   "execution_count": 64,
   "metadata": {},
   "outputs": [],
   "source": [
    "pur = np.zeros((5,3), dtype='int')"
   ]
  },
  {
   "cell_type": "code",
   "execution_count": 65,
   "metadata": {},
   "outputs": [
    {
     "name": "stdout",
     "output_type": "stream",
     "text": [
      "Purity of clusters are:\n",
      "Counter({'normal': 9145, 'dos': 704, 'r2l': 3, 'probe': 2, 'u2r': 1})\n",
      "Cluster 0: 0.9279553526128869\n",
      "Counter({'dos': 1364, 'probe': 1053, 'normal': 522, 'r2l': 10})\n",
      "Cluster 1: 0.46252967107494064\n",
      "Counter({'normal': 3542, 'probe': 371, 'dos': 230, 'r2l': 145, 'u2r': 9})\n",
      "Cluster 2: 0.8242960204794042\n",
      "Counter({'probe': 818, 'normal': 135, 'r2l': 39, 'dos': 16})\n",
      "Cluster 3: 0.8115079365079365\n",
      "Counter({'dos': 6800, 'probe': 69, 'normal': 20})\n",
      "Cluster 4: 0.9870808535346204\n"
     ]
    }
   ],
   "source": [
    "from collections import Counter\n",
    "print(\"Purity of clusters are:\")\n",
    "for i in range(5):\n",
    "        points = [train_df['xAttack'][j] for j in range(len(train_df)) if labels0[j] == i]\n",
    "        c = Counter(list(points))\n",
    "        print(c)\n",
    "        pur[i][0]  = int(100*c.most_common()[0][1]/sum(c.values()))\n",
    "        print(\"Cluster {0}: {1}\".format(i, c.most_common()[0][1]/sum(c.values())))"
   ]
  },
  {
   "cell_type": "markdown",
   "metadata": {},
   "source": [
    "#### Part-3\n",
    "Perform GMM (with five Gaussian) on the reduced dimensions\n",
    "from first part and calculate the purity of clusters. You can use python library for\n",
    "GMM."
   ]
  },
  {
   "cell_type": "code",
   "execution_count": 66,
   "metadata": {},
   "outputs": [],
   "source": [
    "from sklearn.mixture import GaussianMixture\n",
    "gmm = GaussianMixture(n_components=5).fit(tr_dt)\n",
    "labels1 = gmm.predict(tr_dt)"
   ]
  },
  {
   "cell_type": "code",
   "execution_count": 67,
   "metadata": {},
   "outputs": [
    {
     "name": "stdout",
     "output_type": "stream",
     "text": [
      "Purity of clusters are:\n",
      "Counter({'dos': 6517})\n",
      "Cluster 0: 1.0\n",
      "Counter({'normal': 656, 'dos': 537, 'r2l': 90, 'probe': 67, 'u2r': 7})\n",
      "Cluster 1: 0.4834193072955048\n",
      "Counter({'normal': 2781, 'dos': 1475, 'probe': 1351, 'r2l': 13})\n",
      "Cluster 2: 0.49483985765124555\n",
      "Counter({'normal': 8})\n",
      "Cluster 3: 1.0\n",
      "Counter({'normal': 9919, 'probe': 895, 'dos': 585, 'r2l': 94, 'u2r': 3})\n",
      "Cluster 4: 0.8628218510786361\n"
     ]
    }
   ],
   "source": [
    "from collections import Counter\n",
    "print(\"Purity of clusters are:\")\n",
    "for i in range(5):\n",
    "        points = [train_df['xAttack'][j] for j in range(len(train_df)) if labels1[j] == i]\n",
    "        c = Counter(list(points))\n",
    "        print(c)\n",
    "        pur[i][1] = int(100*c.most_common()[0][1]/sum(c.values()))\n",
    "        print(\"Cluster {0}: {1}\".format(i, c.most_common()[0][1]/sum(c.values())))"
   ]
  },
  {
   "cell_type": "markdown",
   "metadata": {},
   "source": [
    "#### Part-4: \n",
    "Perform Hierarchical clustering with single-linkage and five\n",
    "clusters. Also calculate the purity of clusters. Create a pie chart comparing purity\n",
    "of different clustering methods you have tried for all classes. You can use python\n",
    "library for hierarchical clustering."
   ]
  },
  {
   "cell_type": "code",
   "execution_count": 68,
   "metadata": {},
   "outputs": [],
   "source": [
    "from sklearn.cluster import AgglomerativeClustering\n",
    "clustering = AgglomerativeClustering(n_clusters=5, linkage='single').fit(tr_dt)\n",
    "labels2 = clustering.labels_"
   ]
  },
  {
   "cell_type": "code",
   "execution_count": 69,
   "metadata": {},
   "outputs": [
    {
     "name": "stdout",
     "output_type": "stream",
     "text": [
      "Purity of clusters are:\n",
      "Counter({'normal': 13360, 'dos': 9114, 'probe': 2312, 'r2l': 193, 'u2r': 10})\n",
      "Cluster 0: 0.5346352395053824\n",
      "Counter({'probe': 1})\n",
      "Cluster 1: 1.0\n",
      "Counter({'r2l': 4, 'normal': 2})\n",
      "Cluster 2: 0.6666666666666666\n",
      "Counter({'normal': 1})\n",
      "Cluster 3: 1.0\n",
      "Counter({'normal': 1})\n",
      "Cluster 4: 1.0\n"
     ]
    }
   ],
   "source": [
    "from collections import Counter\n",
    "print(\"Purity of clusters are:\")\n",
    "for i in range(5):\n",
    "        points = [train_df['xAttack'][j] for j in range(len(train_df)) if labels2[j] == i]\n",
    "        c = Counter(list(points))\n",
    "        print(c)\n",
    "        pur[i][2] = int(100*c.most_common()[0][1]/sum(c.values()))\n",
    "        print(\"Cluster {0}: {1}\".format(i, c.most_common()[0][1]/sum(c.values())))"
   ]
  },
  {
   "cell_type": "code",
   "execution_count": 70,
   "metadata": {},
   "outputs": [
    {
     "data": {
      "image/png": "[encoded data removed]",
      "text/plain": [
       "<Figure size 432x288 with 1 Axes>"
      ]
     },
     "metadata": {},
     "output_type": "display_data"
    },
    {
     "data": {
      "image/png": "[encoded data removed]",
      "text/plain": [
       "<Figure size 432x288 with 1 Axes>"
      ]
     },
     "metadata": {},
     "output_type": "display_data"
    },
    {
     "data": {
      "image/png": "[encoded data removed]",
      "text/plain": [
       "<Figure size 432x288 with 1 Axes>"
      ]
     },
     "metadata": {},
     "output_type": "display_data"
    },
    {
     "data": {
      "image/png": "[encoded data removed]",
      "text/plain": [
       "<Figure size 432x288 with 1 Axes>"
      ]
     },
     "metadata": {},
     "output_type": "display_data"
    },
    {
     "data": {
      "image/png": "[encoded data removed]",
      "text/plain": [
       "<Figure size 432x288 with 1 Axes>"
      ]
     },
     "metadata": {},
     "output_type": "display_data"
    }
   ],
   "source": [
    "label = ['kmeans', 'gmm', 'hierarchical clustering']\n",
    "for i in range(5):\n",
    "    #print(pur[i,:])\n",
    "    plt.pie(pur[i,:], labels = label)\n",
    "    plt.title(\"Clustering \"+str(i))\n",
    "    plt.show()"
   ]
  },
  {
   "cell_type": "markdown",
   "metadata": {},
   "source": [
    "#### Part-5: \n",
    "Original data of network user activity is available here(https:\n",
    "//www.kaggle.com/what0919/intrusion-detection). Original data also con-\n",
    "tains categorical feature. If you were to do dimensionality reduction on original\n",
    "data, could you use PCA? Justify. Write a paragraph in report for your explana-\n",
    "tion/justification."
   ]
  },
  {
   "cell_type": "markdown",
   "metadata": {},
   "source": [
    "No, we cannot do PCA for categorical dataset, there is a special algorithm called **Factor analysis of mixed data** that is devoted towards handling dimensionality reduction of dataset containing mixed data ie both continuous and categorical.\n",
    "\n",
    "The data include ${\\displaystyle K}$ quantitative variables ${\\displaystyle {k=1,\\dots ,K}}$ and ${\\displaystyle Q}$  qualitative variables ${\\displaystyle {q=1,\\dots ,Q}}$ .\n",
    "\n",
    "${\\displaystyle z}$ is a quantitative variable. We note:\n",
    "\n",
    "${\\displaystyle r(z,k)}$ the correlation coefficient between variables ${\\displaystyle k}$ and ${\\displaystyle z}$ ;\n",
    "${\\displaystyle \\eta ^{2}(z,q)}$ the squared correlation ratio between variables ${\\displaystyle z}$  and ${\\displaystyle q}$ .\n",
    "In the PCA of ${\\displaystyle K}$, we look for the function on ${\\displaystyle I}$ (a function on ${\\displaystyle I}$ assigns a value to each individual, it is the case for initial variables and principal components) the most correlated to all ${\\displaystyle K}$ variables in the following sense:\n",
    "\n",
    "${\\displaystyle \\sum _{k}r^{2}(z,k)}$ maximum.\n",
    "\n",
    "In MCA of Q, we look for the function on ${\\displaystyle I}$ more related to all ${\\displaystyle Q}$ variables in the following sense:\n",
    "\n",
    "${\\displaystyle \\sum _{q}\\eta ^{2}(z,q)}$ maximum.\n",
    "\n",
    "In FAMD ${\\displaystyle \\{K,Q\\}}$, we look for the function on ${\\displaystyle I}$ the more related to all ${\\displaystyle K+Q}$ variables in the following sense:\n",
    "\n",
    "${\\displaystyle \\sum _{k}r^{2}(z,k)+\\sum _{q}\\eta ^{2}(z,q)}$ maximum.\n",
    "\n",
    "In this criterion, both types of variables play the same role. The contribution of each variable in this criterion is bounded by 1.\n",
    "\n"
   ]
  },
  {
   "cell_type": "markdown",
   "metadata": {},
   "source": [
    "## Question 2:\n",
    "Use the Admission dataset as in the third question for logistic regression."
   ]
  },
  {
   "cell_type": "markdown",
   "metadata": {},
   "source": [
    "#### Part 1:\n",
    "Implement logistic regression model to predict if the student will get admit"
   ]
  },
  {
   "cell_type": "code",
   "execution_count": 122,
   "metadata": {},
   "outputs": [],
   "source": [
    "train_df = pd.read_csv('AdmissionDataset/data.csv')"
   ]
  },
  {
   "cell_type": "code",
   "execution_count": 123,
   "metadata": {},
   "outputs": [],
   "source": [
    "from sklearn.model_selection import train_test_split\n",
    "X_train, X_val, Y_train, Y_val = train_test_split(train_df.drop(['Serial No.','Chance of Admit '], axis=1),train_df['Chance of Admit '], test_size=0.2,shuffle=True)"
   ]
  },
  {
   "cell_type": "code",
   "execution_count": 124,
   "metadata": {},
   "outputs": [],
   "source": [
    "class logistic_regression:\n",
    "    def __init__(self, alpha=0.1, iteration=1000, threshold = 0.5):\n",
    "        self.alpha = alpha \n",
    "        self.iterations = iteration\n",
    "        self.mean = 0\n",
    "        self.std = 0\n",
    "        self.theta = []\n",
    "        self.threshold = threshold\n",
    "    def fit(self,x_tr, y_tr):\n",
    "        m = x_tr.size\n",
    "        self.mean = x_tr.mean()\n",
    "        self.std = x_tr.std()\n",
    "        x_tr = (x_tr - self.mean)/self.std\n",
    "        theta = np.random.rand(len(x_tr.iloc[0])+1)\n",
    "        past_costs = []\n",
    "        past_thetas = [theta]\n",
    "        x = np.c_[np.ones(len(x_tr.iloc[:,0])),x_tr]\n",
    "        for i in range(self.iterations):\n",
    "            prediction = self.sigmoid(np.dot(x, theta.T))\n",
    "            #prediction[prediction>=0.5] = 1\n",
    "            #prediction[prediction<0.5] = 0\n",
    "            #print(len(prediction) == len(x_tr))\n",
    "            error = prediction - y_tr\n",
    "            #print(error)\n",
    "            cost = - 1/(m) * (np.dot(y_tr.T, error) + np.dot(1-y_tr,1-error))\n",
    "            past_costs.append(cost)\n",
    "            theta = theta - (self.alpha * (1/m) * np.dot(x.T, error))\n",
    "            past_thetas.append(theta)\n",
    "            self.theta = past_thetas[-1]\n",
    "        return past_thetas, past_costs\n",
    "    def predict(self, x_val):\n",
    "        x_val = (x_val - self.mean)/self.std\n",
    "        x = np.c_[np.ones(len(x_val.iloc[:,0])),x_val]\n",
    "        prediction = self.sigmoid(np.dot(x, self.theta.T))\n",
    "        prediction[prediction>=self.threshold] = 1\n",
    "        prediction[prediction<self.threshold] = 0\n",
    "        return prediction\n",
    "    def sigmoid(self,x):\n",
    "        return (np.exp(x)/(1+np.exp(x)))\n",
    "    #past_thetas, past_costs = gradient_descent(X_train_4, Y_train_4, theta, iterations, alpha)\n",
    "    #theta = past_thetas[-1]"
   ]
  },
  {
   "cell_type": "code",
   "execution_count": 125,
   "metadata": {},
   "outputs": [],
   "source": [
    "Y_train[Y_train>=0.5] = 1\n",
    "Y_train[Y_train<0.5] = 0\n",
    "Y_val[Y_val>=0.5] = 1\n",
    "Y_val[Y_val<0.5] = 0"
   ]
  },
  {
   "cell_type": "code",
   "execution_count": 126,
   "metadata": {},
   "outputs": [],
   "source": [
    "from sklearn.linear_model import LogisticRegression\n",
    "clf_me = logistic_regression()\n",
    "clf_sk = LogisticRegression()"
   ]
  },
  {
   "cell_type": "code",
   "execution_count": 127,
   "metadata": {},
   "outputs": [
    {
     "name": "stderr",
     "output_type": "stream",
     "text": [
      "/home/neil/.local/lib/python3.6/site-packages/sklearn/linear_model/logistic.py:432: FutureWarning: Default solver will be changed to 'lbfgs' in 0.22. Specify a solver to silence this warning.\n",
      "  FutureWarning)\n"
     ]
    },
    {
     "data": {
      "text/plain": [
       "LogisticRegression(C=1.0, class_weight=None, dual=False, fit_intercept=True,\n",
       "          intercept_scaling=1, max_iter=100, multi_class='warn',\n",
       "          n_jobs=None, penalty='l2', random_state=None, solver='warn',\n",
       "          tol=0.0001, verbose=0, warm_start=False)"
      ]
     },
     "execution_count": 127,
     "metadata": {},
     "output_type": "execute_result"
    }
   ],
   "source": [
    "past_thetas, past_costs = clf_me.fit(X_train, Y_train)\n",
    "clf_sk.fit(X_train, Y_train)"
   ]
  },
  {
   "cell_type": "code",
   "execution_count": 128,
   "metadata": {},
   "outputs": [
    {
     "data": {
      "image/png": "[encoded data removed]",
      "text/plain": [
       "<Figure size 432x288 with 1 Axes>"
      ]
     },
     "metadata": {
      "needs_background": "light"
     },
     "output_type": "display_data"
    }
   ],
   "source": [
    "plt.title('Cost Function J')\n",
    "plt.xlabel('No. of iterations')\n",
    "plt.ylabel('Cost')\n",
    "plt.plot(past_costs)\n",
    "plt.show()"
   ]
  },
  {
   "cell_type": "code",
   "execution_count": 131,
   "metadata": {},
   "outputs": [],
   "source": [
    "Y_pred_me = clf_me.predict(X_val)\n",
    "acc_me = accuracy_score(Y_pred_me, Y_val)\n",
    "res = precision_recall_fscore_support(Y_pred_me, Y_val, average = 'binary')\n",
    "pre_me, re_me, f1_me = res[0], res[1], res[2]\n",
    "Y_pred_sk = clf_sk.predict(X_val)\n",
    "acc_sk = accuracy_score(Y_pred_sk, Y_val)\n",
    "res = precision_recall_fscore_support(Y_pred_sk, Y_val, average = 'binary')\n",
    "pre_sk, re_sk, f1_sk = res[0], res[1], res[2]"
   ]
  },
  {
   "cell_type": "code",
   "execution_count": 132,
   "metadata": {},
   "outputs": [
    {
     "name": "stdout",
     "output_type": "stream",
     "text": [
      "                         My Classifier                   Sklearn Classifier\n",
      "accuracy score:        0.9666666666666667                0.9555555555555556\n",
      "precision score:       1.0                1.0\n",
      "recall score:          0.9659090909090909                0.9550561797752809\n",
      "f1 score:              0.9826589595375723                0.9770114942528736\n"
     ]
    }
   ],
   "source": [
    "print(\"                         My Classifier                   Sklearn Classifier\")\n",
    "print(\"accuracy score:        {0}                {1}\".format(acc_me, acc_sk))\n",
    "print(\"precision score:       {0}                {1}\".format(pre_me, pre_sk))\n",
    "print(\"recall score:          {0}                {1}\".format(re_me, re_sk))\n",
    "print(\"f1 score:              {0}                {1}\".format(f1_me, f1_sk))"
   ]
  },
  {
   "cell_type": "markdown",
   "metadata": {},
   "source": [
    "#### Part 2:\n",
    "Compare the performances of logistic regression model with KNN model on the\n",
    "Admission dataset"
   ]
  },
  {
   "cell_type": "code",
   "execution_count": 133,
   "metadata": {},
   "outputs": [],
   "source": [
    "class  knearestneighbors:\n",
    "    def __init__(self, k=1, metric='euclidean'):\n",
    "        self.k = k\n",
    "        self.metric = metric\n",
    "    def fit(self, X_train, Y_train, X_val):\n",
    "        #self.k = kwargs['k']\n",
    "        #self.metric = kwargs['metric']\n",
    "        ans = [0]*len(X_val)\n",
    "        for i in range(len(X_val)):\n",
    "            lst = []\n",
    "            for j in range(len(X_train)):\n",
    "                s = 0.0\n",
    "                #print(X_val.iloc[i,:])\n",
    "                #print(X_train.iloc[j,:])\n",
    "                #print()\n",
    "                if self.metric == 'euclidean':\n",
    "                    s = np.sum(np.square(np.subtract(X_val.iloc[i,:], X_train.iloc[j,:])))\n",
    "                elif self.metric == 'minkowski':\n",
    "                    s = (np.sum((np.subtract(val.iloc[i,:], X_train.iloc[j,:]))**len(X_train.iloc[i])))**(1/(len(X_train.iloc[i])))\n",
    "                #print(s)\n",
    "                lst.append((s,Y_train.iloc[j]))\n",
    "            lst = sorted(lst)\n",
    "            #print(lst)\n",
    "            trg = []\n",
    "            for f in range(self.k):\n",
    "                trg.append(lst[f][1])\n",
    "            #print(i)\n",
    "            #print(self.k)\n",
    "            ans[i] = Counter(trg).most_common(1)[0][0]\n",
    "            #print()\n",
    "        return ans\n",
    "    def predict(self, X_train, Y_train, X_val):\n",
    "        ans = [0]*len(X_val)\n",
    "        for i in range(len(X_val)):\n",
    "            lst = []\n",
    "            for j in range(len(X_train)):\n",
    "                s = 0.0\n",
    "                #print(X_val.iloc[i,:])\n",
    "                #print(X_train.iloc[j,:])\n",
    "                #print()\n",
    "                if self.metric == 'euclidean':\n",
    "                    s = np.sum(np.square(np.subtract(X_val.iloc[i,:], X_train.iloc[j,:])))\n",
    "                elif self.metric == 'minkowski':\n",
    "                    s = (np.sum((np.subtract(val.iloc[i,:], X_train.iloc[j,:]))**len(X_train.iloc[i])))**(1/(len(X_train.iloc[i])))\n",
    "                #print(s)\n",
    "                lst.append((s,Y_train.iloc[j]))\n",
    "            lst = sorted(lst)\n",
    "            trg = []\n",
    "            for f in range(self.k):\n",
    "                trg.append(lst[f][1])\n",
    "            ans[i] = Counter(trg).most_common(1)[0][0]\n",
    "            #print()\n",
    "        return ans"
   ]
  },
  {
   "cell_type": "code",
   "execution_count": 136,
   "metadata": {},
   "outputs": [],
   "source": [
    "def k_fold_cross_val(X_train,Y_train, clf, k_fold=10):\n",
    "    kf = KFold(n_splits=k_fold, shuffle=True)\n",
    "    accuracy = []\n",
    "    recall = []\n",
    "    precision = []\n",
    "    f1 = []\n",
    "    for train, test in kf.split(X_train):\n",
    "        #print(test)\n",
    "        #X_train, Y_train = train.drop('class', axis = 1), train['class']\n",
    "        Xtrain, Xtest = X_train.iloc[train], X_train.iloc[test]\n",
    "        Ytrain, Ytest = Y_train.iloc[train], Y_train.iloc[test]\n",
    "        ans = clf.fit(Xtrain, Ytrain, Xtest)\n",
    "        accuracy.append(accuracy_score(Ytest, ans))\n",
    "        res = precision_recall_fscore_support(Ytest, ans, average='weighted')\n",
    "        precision.append(res[0])\n",
    "        recall.append(res[1])\n",
    "        f1.append(res[2])\n",
    "    return sum(accuracy)/len(accuracy), sum(precision)/len(precision), sum(recall)/len(recall), sum(f1)/len(f1), "
   ]
  },
  {
   "cell_type": "code",
   "execution_count": 137,
   "metadata": {},
   "outputs": [],
   "source": [
    "clf_lg = logistic_regression()\n",
    "clf_knn = knearestneighbors()"
   ]
  },
  {
   "cell_type": "code",
   "execution_count": 138,
   "metadata": {},
   "outputs": [
    {
     "name": "stderr",
     "output_type": "stream",
     "text": [
      "/home/neil/.local/lib/python3.6/site-packages/sklearn/metrics/classification.py:1143: UndefinedMetricWarning: Precision and F-score are ill-defined and being set to 0.0 in labels with no predicted samples.\n",
      "  'precision', 'predicted', average, warn_for)\n"
     ]
    }
   ],
   "source": [
    "acc_knn, pre_knn, re_knn, f1_knn = k_fold_cross_val(X_train, Y_train, clf_knn)\n",
    "clf_lg.fit(X_train, Y_train)\n",
    "Y_pred_lg = clf_lg.predict(X_val)\n",
    "acc_lg = accuracy_score(Y_pred_lg, Y_val)\n",
    "res = precision_recall_fscore_support(Y_pred_lg, Y_val, average = 'binary')\n",
    "pre_lg, re_lg, f1_lg = res[0], res[1], res[2]"
   ]
  },
  {
   "cell_type": "code",
   "execution_count": 139,
   "metadata": {},
   "outputs": [
    {
     "name": "stdout",
     "output_type": "stream",
     "text": [
      "                     logistic regression Classifier      KNN Classifier\n",
      "accuracy score:        0.9666666666666667                0.9194444444444445\n",
      "precision score:       1.0                0.9125263489234079\n",
      "recall score:          0.9659090909090909                0.9194444444444445\n",
      "f1 score:              0.9826589595375723                0.9141556253504186\n"
     ]
    }
   ],
   "source": [
    "print(\"                     logistic regression Classifier      KNN Classifier\")\n",
    "print(\"accuracy score:        {0}                {1}\".format(acc_lg, acc_knn))\n",
    "print(\"precision score:       {0}                {1}\".format(pre_lg, pre_knn))\n",
    "print(\"recall score:          {0}                {1}\".format(re_lg, re_knn))\n",
    "print(\"f1 score:              {0}                {1}\".format(f1_lg, f1_knn))"
   ]
  },
  {
   "cell_type": "markdown",
   "metadata": {},
   "source": [
    "#### Part 3:\n",
    "Plot a graph explaining the co-relation between threshold value vs precision and\n",
    "recall. Report the criteria one should use while deciding the threshold value. Explain the reason behind your choice of threshold in your model"
   ]
  },
  {
   "cell_type": "code",
   "execution_count": 140,
   "metadata": {},
   "outputs": [
    {
     "name": "stderr",
     "output_type": "stream",
     "text": [
      "/home/neil/.local/lib/python3.6/site-packages/sklearn/metrics/classification.py:1145: UndefinedMetricWarning: Recall and F-score are ill-defined and being set to 0.0 due to no true samples.\n",
      "  'recall', 'true', average, warn_for)\n"
     ]
    }
   ],
   "source": [
    "acc = []\n",
    "pre = []\n",
    "rec = []\n",
    "f1 = []\n",
    "for i in  np.linspace(0,1,11):\n",
    "    clf_lg = logistic_regression(threshold = i)\n",
    "    clf_lg.fit(X_train, Y_train)\n",
    "    Y_pred_lg = clf_lg.predict(X_val)\n",
    "    acc_lg = accuracy_score(Y_pred_lg, Y_val)\n",
    "    res = precision_recall_fscore_support(Y_pred_lg, Y_val, average = 'binary')\n",
    "    pre_lg, re_lg, f1_lg = res[0], res[1], res[2]\n",
    "    #print(i, acc_lg, pre_lg, re_lg, f1_lg)\n",
    "    acc.append((i,acc_lg))\n",
    "    pre.append((i,pre_lg))\n",
    "    rec.append((i,re_lg))\n",
    "    f1.append((i,f1_lg))"
   ]
  },
  {
   "cell_type": "code",
   "execution_count": 141,
   "metadata": {},
   "outputs": [
    {
     "data": {
      "image/png": "[encoded data removed]",
      "text/plain": [
       "<Figure size 432x288 with 1 Axes>"
      ]
     },
     "metadata": {
      "needs_background": "light"
     },
     "output_type": "display_data"
    }
   ],
   "source": [
    "X_lst = []\n",
    "Y_lst = []\n",
    "for i in range(len(acc)):\n",
    "    X_lst.append(acc[i][0])\n",
    "    Y_lst.append(acc[i][1])\n",
    "plt.plot(X_lst,Y_lst)\n",
    "plt.xlabel('threshold')\n",
    "plt.ylabel('accuracy')\n",
    "plt.show()"
   ]
  },
  {
   "cell_type": "code",
   "execution_count": 142,
   "metadata": {},
   "outputs": [
    {
     "data": {
      "image/png": "[encoded data removed]",
      "text/plain": [
       "<Figure size 432x288 with 1 Axes>"
      ]
     },
     "metadata": {
      "needs_background": "light"
     },
     "output_type": "display_data"
    }
   ],
   "source": [
    "X_lst = []\n",
    "Y_lst = []\n",
    "for i in range(len(acc)):\n",
    "    X_lst.append(pre[i][0])\n",
    "    Y_lst.append(pre[i][1])\n",
    "plt.plot(X_lst,Y_lst)\n",
    "plt.xlabel('threshold')\n",
    "plt.ylabel('precall')\n",
    "plt.show()"
   ]
  },
  {
   "cell_type": "code",
   "execution_count": 143,
   "metadata": {},
   "outputs": [
    {
     "data": {
      "image/png": "[encoded data removed]",
      "text/plain": [
       "<Figure size 432x288 with 1 Axes>"
      ]
     },
     "metadata": {
      "needs_background": "light"
     },
     "output_type": "display_data"
    }
   ],
   "source": [
    "X_lst = []\n",
    "Y_lst = []\n",
    "for i in range(len(acc)):\n",
    "    X_lst.append(rec[i][0])\n",
    "    Y_lst.append(rec[i][1])\n",
    "plt.plot(X_lst,Y_lst)\n",
    "plt.xlabel('threshold')\n",
    "plt.ylabel('recall')\n",
    "plt.show()"
   ]
  },
  {
   "cell_type": "code",
   "execution_count": 144,
   "metadata": {},
   "outputs": [
    {
     "data": {
      "image/png": "[encoded data removed]",
      "text/plain": [
       "<Figure size 432x288 with 1 Axes>"
      ]
     },
     "metadata": {
      "needs_background": "light"
     },
     "output_type": "display_data"
    }
   ],
   "source": [
    "X_lst = []\n",
    "Y_lst = []\n",
    "for i in range(len(acc)):\n",
    "    X_lst.append(f1[i][0])\n",
    "    Y_lst.append(f1[i][1])\n",
    "plt.plot(X_lst,Y_lst)\n",
    "plt.xlabel('threshold')\n",
    "plt.ylabel('f1')\n",
    "plt.show()"
   ]
  },
  {
   "cell_type": "markdown",
   "metadata": {},
   "source": [
    "## Question 3:\n",
    "Implement logistic regression using One vs All and One vs One approaches.\n",
    "Use the following dataset http://preon.iiit.ac.in/~sanjoy_chowdhury/wine-quality.\n",
    "zip for completing the task. Report your observations and accuracy of the model."
   ]
  },
  {
   "cell_type": "code",
   "execution_count": 146,
   "metadata": {},
   "outputs": [],
   "source": [
    "train_df = pd.read_csv('wine-quality/data.csv', delimiter=';')"
   ]
  },
  {
   "cell_type": "code",
   "execution_count": 147,
   "metadata": {},
   "outputs": [],
   "source": [
    "from sklearn.model_selection import train_test_split\n",
    "X_train, X_val, Y_train, Y_val = train_test_split(train_df.drop('quality', axis=1),train_df['quality'], test_size=0.2,shuffle=True)"
   ]
  },
  {
   "cell_type": "code",
   "execution_count": 148,
   "metadata": {},
   "outputs": [],
   "source": [
    "class logistic_regressionOVA:\n",
    "    def __init__(self, alpha=0.1, iteration=1000, classes=2, threshold=0.5):\n",
    "        self.alpha = alpha \n",
    "        self.iterations = iteration\n",
    "        self.classes = classes\n",
    "        self.mean = 0\n",
    "        self.std = 0\n",
    "        self.theta = []\n",
    "        self.threshold = threshold\n",
    "        self.theta_c = []\n",
    "    def fit(self,x_tr, y_tr):\n",
    "        m = x_tr.size\n",
    "        self.mean = x_tr.mean()\n",
    "        self.std = x_tr.std()\n",
    "        x_tr = (x_tr - self.mean)/self.std\n",
    "        for c in range(self.classes):\n",
    "            y_tr_c = (y_tr==c).astype(int)\n",
    "            theta = np.random.rand(len(x_tr.iloc[0])+1)\n",
    "            past_costs = []\n",
    "            past_thetas = [theta]\n",
    "            x = np.c_[np.ones(len(x_tr.iloc[:,0])),x_tr]\n",
    "            for i in range(self.iterations):\n",
    "                prediction = self.sigmoid(np.dot(x, theta.T))\n",
    "                #prediction[prediction>=0.5] = 1\n",
    "                #prediction[prediction<0.5] = 0\n",
    "                #print(len(prediction) == len(x_tr))\n",
    "                error = prediction - y_tr_c\n",
    "                #print(error)\n",
    "                cost = - 1/(m) * (np.dot(y_tr.T, error) + np.dot(1-y_tr,1-error))\n",
    "                past_costs.append(cost)\n",
    "                theta = theta - (self.alpha * (1/m) * np.dot(x.T, error))\n",
    "                past_thetas.append(theta)\n",
    "            self.theta_c.append(theta)\n",
    "        #print(self.theta_c)\n",
    "        return past_thetas, past_costs\n",
    "    def predict(self, x_val):\n",
    "        ans = []\n",
    "        x_val = (x_val - self.mean)/self.std\n",
    "        #print(self.theta_c)\n",
    "        for c in range(self.classes):\n",
    "            x = np.c_[np.ones(len(x_val.iloc[:,0])),x_val]\n",
    "            #print(self.theta_c[c])\n",
    "            #print()\n",
    "            prediction = self.sigmoid(np.dot(x, self.theta_c[c].T))\n",
    "            #print(prediction.shape)\n",
    "            ans.append(prediction)\n",
    "            #print(prediction.shape)\n",
    "        ans = np.array(ans).T\n",
    "        #print(ans)\n",
    "        return np.argmax(ans,axis=1)\n",
    "    def sigmoid(self,x):\n",
    "        return (np.exp(x)/(1+np.exp(x)))\n",
    "    #past_thetas, past_costs = gradient_descent(X_train_4, Y_train_4, theta, iterations, alpha)\n",
    "    #theta = past_thetas[-1]"
   ]
  },
  {
   "cell_type": "code",
   "execution_count": 149,
   "metadata": {},
   "outputs": [],
   "source": [
    "clf_me = logistic_regressionOVA(classes = 10)"
   ]
  },
  {
   "cell_type": "code",
   "execution_count": 150,
   "metadata": {},
   "outputs": [],
   "source": [
    "_,_ = clf_me.fit(X_train,Y_train)"
   ]
  },
  {
   "cell_type": "code",
   "execution_count": 151,
   "metadata": {},
   "outputs": [
    {
     "name": "stderr",
     "output_type": "stream",
     "text": [
      "/home/neil/.local/lib/python3.6/site-packages/sklearn/linear_model/logistic.py:757: ConvergenceWarning: lbfgs failed to converge. Increase the number of iterations.\n",
      "  \"of iterations.\", ConvergenceWarning)\n"
     ]
    }
   ],
   "source": [
    "from sklearn.linear_model import LogisticRegression\n",
    "from sklearn.multiclass import OneVsRestClassifier\n",
    "clf_sk = OneVsRestClassifier(LogisticRegression(random_state=0, solver = 'lbfgs', max_iter=1000)).fit(X_train, Y_train)"
   ]
  },
  {
   "cell_type": "code",
   "execution_count": 152,
   "metadata": {},
   "outputs": [],
   "source": [
    "y_pred_me = clf_me.predict(X_val)\n",
    "acc_me = accuracy_score(y_pred_me,Y_val)"
   ]
  },
  {
   "cell_type": "code",
   "execution_count": 153,
   "metadata": {},
   "outputs": [],
   "source": [
    "y_pred_sk = clf_sk.predict(X_val)\n",
    "acc_sk = accuracy_score(y_pred_sk,Y_val)"
   ]
  },
  {
   "cell_type": "code",
   "execution_count": 154,
   "metadata": {},
   "outputs": [
    {
     "name": "stdout",
     "output_type": "stream",
     "text": [
      "                            My One vs All Classifier         Sklearn One vs All Classifier\n",
      "accuracy score:               0.5385487528344671                0.5249433106575964\n"
     ]
    }
   ],
   "source": [
    "print(\"                            My One vs All Classifier         Sklearn One vs All Classifier\")\n",
    "print(\"accuracy score:               {0}                {1}\".format(acc_me, acc_sk))"
   ]
  },
  {
   "cell_type": "code",
   "execution_count": 155,
   "metadata": {},
   "outputs": [],
   "source": [
    "train_df = pd.read_csv('wine-quality/data.csv', delimiter=';')"
   ]
  },
  {
   "cell_type": "code",
   "execution_count": 156,
   "metadata": {},
   "outputs": [],
   "source": [
    "from sklearn.model_selection import train_test_split\n",
    "X_train, X_val, Y_train, Y_val = train_test_split(train_df.drop('quality', axis=1),train_df['quality'], test_size=0.2,shuffle=True)"
   ]
  },
  {
   "cell_type": "code",
   "execution_count": 157,
   "metadata": {},
   "outputs": [],
   "source": [
    "# One Vs One with all classes available in dataset i.e. 3,4,5,6,7,8,9\n",
    "class logistic_regressionOVO:\n",
    "    def __init__(self, alpha=0.1, iteration=10000, classes=2, threshold=0.5):\n",
    "        self.alpha = alpha \n",
    "        self.iterations = iteration\n",
    "        self.classes = classes\n",
    "        self.mean = 0\n",
    "        self.std = 0\n",
    "        self.theta = []\n",
    "        self.threshold = threshold\n",
    "        self.theta_c = {}\n",
    "        self.mp = {}\n",
    "    def fit(self,x_tr, y_tr):\n",
    "        m = x_tr.size\n",
    "        self.mean = x_tr.mean()\n",
    "        self.std = x_tr.std()\n",
    "        x_tr = (x_tr - self.mean)/self.std\n",
    "        for i,x in zip(range(len(y_tr.unique().tolist())),y_tr.unique().tolist()):\n",
    "            self.mp[i]=x\n",
    "        self.classes = len(y_tr.unique().tolist())\n",
    "        for c1 in range(self.classes):\n",
    "            for c2 in range(c1+1,self.classes):\n",
    "                #print([y_tr.unique().tolist()[c1],y_tr.unique().tolist()[c2]])\n",
    "                x_tr_c = x_tr[list(x_tr.columns.values)][y_tr.isin([y_tr.unique().tolist()[c1],y_tr.unique().tolist()[c2]])]\n",
    "                y_tr_c12 = y_tr[:][y_tr.isin([y_tr.unique().tolist()[c1],y_tr.unique().tolist()[c2]])]\n",
    "                y_tr_c = (y_tr_c12==y_tr.unique().tolist()[c1]).astype(int)\n",
    "                #print(y_tr_c)\n",
    "                theta = np.random.rand(len(x_tr.iloc[0])+1)\n",
    "                past_costs = []\n",
    "                past_thetas = [theta]\n",
    "                x = np.c_[np.ones(len(x_tr_c.iloc[:,0])),x_tr_c]\n",
    "                if len(x_tr_c)>0:\n",
    "                    for i in range(self.iterations):\n",
    "                        prediction = self.sigmoid(np.dot(x, theta.T))\n",
    "                        #prediction[prediction>=0.5] = 1\n",
    "                        #prediction[prediction<0.5] = 0\n",
    "                        #print(len(prediction) == len(x_tr))\n",
    "                        error = prediction - y_tr_c\n",
    "                        #print(error)\n",
    "                        cost = -1/(m) * (np.dot(y_tr_c.T, error) + np.dot(1-y_tr_c,1-error))\n",
    "                        past_costs.append(cost)\n",
    "                        theta = theta - (self.alpha * (1/m) * np.dot(x.T, error))\n",
    "                        past_thetas.append(theta)\n",
    "                self.theta_c[(c1,c2)] = theta\n",
    "        #print(self.theta_c)\n",
    "        #print()\n",
    "        #print(self.mp)\n",
    "        return past_thetas, past_costs\n",
    "    def predict(self, x_val):\n",
    "        ans = []\n",
    "        #print(self.theta_c)\n",
    "        x_val = (x_val - self.mean)/self.std\n",
    "        for c1 in range(self.classes):\n",
    "            for c2 in range(c1+1,self.classes):\n",
    "                x = np.c_[np.ones(len(x_val.iloc[:,0])),x_val]\n",
    "                #print(self.theta_c[(c1,c2)])\n",
    "                #print()\n",
    "                prediction = np.dot(x, self.theta_c[(c1,c2)].T)\n",
    "                #print(prediction.shape)\n",
    "                #ans.append(prediction)\n",
    "                #print(prediction.shape)\n",
    "                prediction[prediction>=self.threshold] = self.mp[c1]\n",
    "                prediction[prediction<self.threshold] = self.mp[c2]\n",
    "                #print(prediction)\n",
    "                ans.append(prediction)\n",
    "                #print(ans)\n",
    "        ans = np.array(ans).T\n",
    "        pred = []\n",
    "        for i in range(len(ans)):\n",
    "            pred.append(Counter(ans[i]).most_common(1)[0][0])\n",
    "        return pred\n",
    "    def sigmoid(self,x):\n",
    "        return (np.exp(x)/(1+np.exp(x)))\n",
    "    #past_thetas, past_costs = gradient_descent(X_train_4, Y_train_4, theta, iterations, alpha)\n",
    "    #theta = past_thetas[-1]"
   ]
  },
  {
   "cell_type": "code",
   "execution_count": 158,
   "metadata": {},
   "outputs": [],
   "source": [
    "clf_me = logistic_regressionOVO(classes = 10)"
   ]
  },
  {
   "cell_type": "code",
   "execution_count": 159,
   "metadata": {},
   "outputs": [],
   "source": [
    "_,_ = clf_me.fit(X_train,Y_train)"
   ]
  },
  {
   "cell_type": "code",
   "execution_count": 160,
   "metadata": {},
   "outputs": [],
   "source": [
    "from sklearn.linear_model import LogisticRegression\n",
    "from sklearn.multiclass import OneVsOneClassifier\n",
    "clf_sk = OneVsOneClassifier(LogisticRegression(random_state=0, solver='lbfgs', max_iter=1000)).fit(X_train, Y_train)"
   ]
  },
  {
   "cell_type": "code",
   "execution_count": 161,
   "metadata": {},
   "outputs": [],
   "source": [
    "y_pred_me = clf_me.predict(X_val)\n",
    "acc_me = accuracy_score(y_pred_me,Y_val)"
   ]
  },
  {
   "cell_type": "code",
   "execution_count": 162,
   "metadata": {},
   "outputs": [],
   "source": [
    "y_pred_sk = clf_sk.predict(X_val)\n",
    "acc_sk = accuracy_score(y_pred_sk,Y_val)"
   ]
  },
  {
   "cell_type": "code",
   "execution_count": 163,
   "metadata": {},
   "outputs": [
    {
     "name": "stdout",
     "output_type": "stream",
     "text": [
      "                            My One vs One Classifier         Sklearn One vs One Classifier\n",
      "accuracy score:               0.5147392290249433                0.5351473922902494\n"
     ]
    }
   ],
   "source": [
    "print(\"                            My One vs One Classifier         Sklearn One vs One Classifier\")\n",
    "print(\"accuracy score:               {0}                {1}\".format(acc_me, acc_sk))"
   ]
  },
  {
   "cell_type": "code",
   "execution_count": 164,
   "metadata": {},
   "outputs": [],
   "source": [
    "train_df = pd.read_csv('wine-quality/data.csv', delimiter=';')"
   ]
  },
  {
   "cell_type": "code",
   "execution_count": 165,
   "metadata": {},
   "outputs": [],
   "source": [
    "from sklearn.model_selection import train_test_split\n",
    "X_train, X_val, Y_train, Y_val = train_test_split(train_df.drop('quality', axis=1),train_df['quality'], test_size=0.2,shuffle=True)"
   ]
  },
  {
   "cell_type": "code",
   "execution_count": 166,
   "metadata": {},
   "outputs": [],
   "source": [
    "# One Vs One with all possible classes 0-10\n",
    "class logistic_regressionOVO:\n",
    "    def __init__(self, alpha=0.1, iteration=10000, classes=2, threshold=0.5):\n",
    "        self.alpha = alpha \n",
    "        self.iterations = iteration\n",
    "        self.classes = classes\n",
    "        self.mean = 0\n",
    "        self.std = 0\n",
    "        self.theta = []\n",
    "        self.threshold = threshold\n",
    "        self.theta_c = {}\n",
    "        self.mp = {}\n",
    "    def fit(self,x_tr, y_tr):\n",
    "        m = x_tr.size\n",
    "        self.mean = x_tr.mean()\n",
    "        self.std = x_tr.std()\n",
    "        x_tr = (x_tr - self.mean)/self.std\n",
    "        for i,x in zip(range(len(y_tr.unique().tolist())),y_tr.unique().tolist()):\n",
    "            self.mp[i]=x\n",
    "        #self.classes = len(y_tr.unique().tolist())\n",
    "        for c1 in range(self.classes):\n",
    "            for c2 in range(c1+1,self.classes):\n",
    "                #print([y_tr.unique().tolist()[c1],y_tr.unique().tolist()[c2]])\n",
    "                x_tr_c = x_tr[list(x_tr.columns.values)][y_tr.isin([c1,c2])]\n",
    "                y_tr_c12 = y_tr[:][y_tr.isin([c1,c2])]\n",
    "                y_tr_c = (y_tr_c12==c1).astype(int)\n",
    "                #print(y_tr_c)\n",
    "                theta = np.random.rand(len(x_tr.iloc[0])+1)\n",
    "                past_costs = []\n",
    "                past_thetas = [theta]\n",
    "                x = np.c_[np.ones(len(x_tr_c.iloc[:,0])),x_tr_c]\n",
    "                if len(x_tr_c)>0:\n",
    "                    for i in range(self.iterations):\n",
    "                        prediction = self.sigmoid(np.dot(x, theta.T))\n",
    "                        #prediction[prediction>=0.5] = 1\n",
    "                        #prediction[prediction<0.5] = 0\n",
    "                        #print(len(prediction) == len(x_tr))\n",
    "                        error = prediction - y_tr_c\n",
    "                        #print(error)\n",
    "                        cost = - 1/(m) * (np.dot(y_tr_c.T, error) + np.dot(1-y_tr_c,1-error))\n",
    "                        past_costs.append(cost)\n",
    "                        theta = theta - (self.alpha * (1/m) * np.dot(x.T, error))\n",
    "                        past_thetas.append(theta)\n",
    "                self.theta_c[(c1,c2)] = theta\n",
    "        #print(self.theta_c)\n",
    "        #print()\n",
    "        #print(self.mp)\n",
    "        return past_thetas, past_costs\n",
    "    def predict(self, x_val):\n",
    "        ans = []\n",
    "        #print(self.theta_c)\n",
    "        x_val = (x_val - self.mean)/self.std\n",
    "        for c1 in range(self.classes):\n",
    "            for c2 in range(c1+1,self.classes):\n",
    "                x = np.c_[np.ones(len(x_val.iloc[:,0])),x_val]\n",
    "                #print(self.theta_c[(c1,c2)])\n",
    "                #print()\n",
    "                prediction = np.dot(x, self.theta_c[(c1,c2)].T)\n",
    "                #print(prediction.shape)\n",
    "                #ans.append(prediction)\n",
    "                #print(prediction.shape)\n",
    "                prediction[prediction>=self.threshold] = c1\n",
    "                prediction[prediction<self.threshold] = c2\n",
    "                #print(prediction)\n",
    "                ans.append(prediction)\n",
    "                #print(ans)\n",
    "        ans = np.array(ans).T\n",
    "        pred = []\n",
    "        for i in range(len(ans)):\n",
    "            pred.append(Counter(ans[i]).most_common(1)[0][0])\n",
    "        #print(pred)\n",
    "        return pred\n",
    "    def sigmoid(self,x):\n",
    "        return (np.exp(x)/(1+np.exp(x)))\n",
    "    #past_thetas, past_costs = gradient_descent(X_train_4, Y_train_4, theta, iterations, alpha)\n",
    "    #theta = past_thetas[-1]"
   ]
  },
  {
   "cell_type": "code",
   "execution_count": 167,
   "metadata": {},
   "outputs": [],
   "source": [
    "clf_me = logistic_regressionOVO(classes = 10)"
   ]
  },
  {
   "cell_type": "code",
   "execution_count": 168,
   "metadata": {},
   "outputs": [
    {
     "name": "stderr",
     "output_type": "stream",
     "text": [
      "/home/neil/.local/lib/python3.6/site-packages/sklearn/linear_model/logistic.py:757: ConvergenceWarning: lbfgs failed to converge. Increase the number of iterations.\n",
      "  \"of iterations.\", ConvergenceWarning)\n"
     ]
    }
   ],
   "source": [
    "from sklearn.linear_model import LogisticRegression\n",
    "from sklearn.multiclass import OneVsOneClassifier\n",
    "clf_sk = OneVsOneClassifier(LogisticRegression(random_state=0, solver='lbfgs', max_iter=1000)).fit(X_train, Y_train)"
   ]
  },
  {
   "cell_type": "code",
   "execution_count": 169,
   "metadata": {},
   "outputs": [],
   "source": [
    "_,_ = clf_me.fit(X_train,Y_train)"
   ]
  },
  {
   "cell_type": "code",
   "execution_count": 170,
   "metadata": {},
   "outputs": [],
   "source": [
    "np.set_printoptions(threshold=np.nan)\n",
    "y_pred_me = clf_me.predict(X_val)\n",
    "acc_me = accuracy_score(y_pred_me,Y_val)"
   ]
  },
  {
   "cell_type": "code",
   "execution_count": 171,
   "metadata": {},
   "outputs": [],
   "source": [
    "y_pred_sk = clf_sk.predict(X_val)\n",
    "acc_sk = accuracy_score(y_pred_sk,Y_val)"
   ]
  },
  {
   "cell_type": "code",
   "execution_count": 172,
   "metadata": {},
   "outputs": [
    {
     "name": "stdout",
     "output_type": "stream",
     "text": [
      "                            My One vs One Classifier         Sklearn One vs One Classifier\n",
      "accuracy score:               0.5136054421768708                0.5351473922902494\n"
     ]
    }
   ],
   "source": [
    "print(\"                            My One vs One Classifier         Sklearn One vs One Classifier\")\n",
    "print(\"accuracy score:               {0}                {1}\".format(acc_me, acc_sk))"
   ]
  },
  {
   "cell_type": "code",
   "execution_count": null,
   "metadata": {},
   "outputs": [],
   "source": []
  }
 ],
 "metadata": {
  "kernelspec": {
   "display_name": "Python 3",
   "language": "python",
   "name": "python3"
  },
  "language_info": {
   "codemirror_mode": {
    "name": "ipython",
    "version": 3
   },
   "file_extension": ".py",
   "mimetype": "text/x-python",
   "name": "python",
   "nbconvert_exporter": "python",
   "pygments_lexer": "ipython3",
   "version": "3.6.7"
  }
 },
 "nbformat": 4,
 "nbformat_minor": 2
}
