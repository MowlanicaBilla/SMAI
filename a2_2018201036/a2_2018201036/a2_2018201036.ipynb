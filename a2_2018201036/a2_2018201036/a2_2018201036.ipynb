{
 "cells": [
  {
   "cell_type": "code",
   "execution_count": 1,
   "metadata": {},
   "outputs": [],
   "source": [
    "import pandas as pd\n",
    "from sklearn import neighbors\n",
    "import numpy as np\n",
    "from collections import Counter\n",
    "import matplotlib.pyplot as plt\n",
    "from matplotlib.colors import ListedColormap\n",
    "from sklearn.metrics import precision_recall_fscore_support\n",
    "from sklearn.metrics import accuracy_score\n",
    "from sklearn.model_selection import cross_val_score\n",
    "from sklearn.model_selection import KFold"
   ]
  },
  {
   "cell_type": "markdown",
   "metadata": {},
   "source": [
    "### Part 1"
   ]
  },
  {
   "cell_type": "code",
   "execution_count": 2,
   "metadata": {},
   "outputs": [],
   "source": [
    "train_df_1 = pd.read_csv('RobotDataset/Robot1',delimiter=' ', header=None, names = ['class', 'a1', 'a2', 'a3', 'a4', 'a5','a6', 'id'])\n",
    "train_df_2 = pd.read_csv('RobotDataset/Robot2',delimiter=' ', header=None, names = ['class', 'a1', 'a2', 'a3', 'a4', 'a5','a6', 'id'])\n",
    "train_df_3 = pd.read_csv('Iris/Iris.csv', header=None, names = ['sl', 'sw', 'pl', 'pw', 'class'])"
   ]
  },
  {
   "cell_type": "code",
   "execution_count": 3,
   "metadata": {},
   "outputs": [],
   "source": [
    "train_df_1 = train_df_1.drop('id', axis=1)\n",
    "train_df_2 = train_df_2.drop('id', axis=1)\n",
    "#train_df_3 = train_df_3.drop('id', axis=1)"
   ]
  },
  {
   "cell_type": "code",
   "execution_count": 4,
   "metadata": {},
   "outputs": [],
   "source": [
    "# probs = np.random.rand(len(train_df_1))\n",
    "# training_mask = probs <= 0.8\n",
    "# validation_mask = probs > 0.8\n",
    "# train_1 =  train_df_1[training_mask]\n",
    "# val_1 = train_df_1[validation_mask]\n",
    "X_train_1, Y_train_1 = train_df_1.drop(['class'], axis = 1), train_df_1['class']\n",
    "# X_val_1, Y_val_1 = val_1.drop(['id', 'class'], axis=1), val_1['class']"
   ]
  },
  {
   "cell_type": "code",
   "execution_count": 5,
   "metadata": {},
   "outputs": [],
   "source": [
    "# probs = np.random.rand(len(train_df_1))\n",
    "# training_mask = probs <= 0.8\n",
    "# validation_mask = probs > 0.8\n",
    "# train_2 =  train_df_2[training_mask]\n",
    "# val_2 = train_df_2[validation_mask]\n",
    "X_train_2, Y_train_2 = train_df_2.drop(['class'], axis = 1), train_df_2['class']\n",
    "# X_val_2, Y_val_2 = val_1.drop(['id', 'class'], axis=1), val_1['class']"
   ]
  },
  {
   "cell_type": "code",
   "execution_count": 6,
   "metadata": {},
   "outputs": [],
   "source": [
    "# probs = np.random.rand(len(train_df_1))\n",
    "# training_mask = probs <= 0.8\n",
    "# validation_mask = probs > 0.8\n",
    "# train_3 =  train_df_3[training_mask]\n",
    "# val_3 = train_df_3[validation_mask]\n",
    "X_train_3, Y_train_3 = train_df_3.drop('class', axis = 1), train_df_3['class']\n",
    "# X_val_3, Y_val_3 = val_3.drop('class', axis=1), val_3['class']"
   ]
  },
  {
   "cell_type": "code",
   "execution_count": 7,
   "metadata": {},
   "outputs": [
    {
     "data": {
      "text/plain": [
       "KNeighborsClassifier(algorithm='brute', leaf_size=30, metric='euclidean',\n",
       "           metric_params=None, n_jobs=None, n_neighbors=3, p=2,\n",
       "           weights='uniform')"
      ]
     },
     "execution_count": 7,
     "metadata": {},
     "output_type": "execute_result"
    }
   ],
   "source": [
    "clf = neighbors.KNeighborsClassifier(n_neighbors=3, algorithm='brute', metric = 'euclidean')\n",
    "clf.fit(X_train_1, Y_train_1)"
   ]
  },
  {
   "cell_type": "code",
   "execution_count": 8,
   "metadata": {},
   "outputs": [],
   "source": [
    "class  knearestneighbors:\n",
    "    def __init__(self, k=1, metric='euclidean'):\n",
    "        self.k = k\n",
    "        self.metric = metric\n",
    "    def fit(self, X_train, Y_train, X_val):\n",
    "        #self.k = kwargs['k']\n",
    "        #self.metric = kwargs['metric']\n",
    "        ans = [0]*len(X_val)\n",
    "        for i in range(len(X_val)):\n",
    "            lst = []\n",
    "            for j in range(len(X_train)):\n",
    "                s = 0.0\n",
    "                #print(X_val.iloc[i,:])\n",
    "                #print(X_train.iloc[j,:])\n",
    "                #print()\n",
    "                if self.metric == 'euclidean':\n",
    "                    s = np.sum(np.square(np.subtract(X_val.iloc[i,:], X_train.iloc[j,:])))\n",
    "                elif self.metric == 'minkowski':\n",
    "                    s = (np.sum((np.subtract(val.iloc[i,:], X_train.iloc[j,:]))**len(X_train.iloc[i])))**(1/(len(X_train.iloc[i])))\n",
    "                #print(s)\n",
    "                lst.append((s,Y_train.iloc[j]))\n",
    "            lst = sorted(lst)\n",
    "            #print(lst)\n",
    "            trg = []\n",
    "            for f in range(self.k):\n",
    "                trg.append(lst[f][1])\n",
    "            #print(i)\n",
    "            #print(self.k)\n",
    "            ans[i] = Counter(trg).most_common(1)[0][0]\n",
    "            #print()\n",
    "        return ans\n",
    "    def predict(self, X_train, Y_train, X_val):\n",
    "        ans = [0]*len(X_val)\n",
    "        for i in range(len(X_val)):\n",
    "            lst = []\n",
    "            for j in range(len(X_train)):\n",
    "                s = 0.0\n",
    "                #print(X_val.iloc[i,:])\n",
    "                #print(X_train.iloc[j,:])\n",
    "                #print()\n",
    "                if self.metric == 'euclidean':\n",
    "                    s = np.sum(np.square(np.subtract(X_val.iloc[i,:], X_train.iloc[j,:])))\n",
    "                elif self.metric == 'minkowski':\n",
    "                    s = (np.sum((np.subtract(val.iloc[i,:], X_train.iloc[j,:]))**len(X_train.iloc[i])))**(1/(len(X_train.iloc[i])))\n",
    "                #print(s)\n",
    "                lst.append((s,Y_train.iloc[j]))\n",
    "            lst = sorted(lst)\n",
    "            trg = []\n",
    "            for f in range(self.k):\n",
    "                trg.append(lst[f][1])\n",
    "            ans[i] = Counter(trg).most_common(1)[0][0]\n",
    "            #print()\n",
    "        return ans"
   ]
  },
  {
   "cell_type": "code",
   "execution_count": 9,
   "metadata": {},
   "outputs": [],
   "source": [
    "def k_fold_cross_val(X_train,Y_train, clf, k_fold=10):\n",
    "    kf = KFold(n_splits=k_fold, shuffle=True)\n",
    "    accuracy = []\n",
    "    recall = []\n",
    "    precision = []\n",
    "    f1 = []\n",
    "    for train, test in kf.split(X_train):\n",
    "        #print(test)\n",
    "        #X_train, Y_train = train.drop('class', axis = 1), train['class']\n",
    "        Xtrain, Xtest = X_train.iloc[train], X_train.iloc[test]\n",
    "        Ytrain, Ytest = Y_train.iloc[train], Y_train.iloc[test]\n",
    "        ans = clf.fit(Xtrain, Ytrain, Xtest)\n",
    "        accuracy.append(accuracy_score(Ytest, ans))\n",
    "        res = precision_recall_fscore_support(Ytest, ans, average='weighted')\n",
    "        precision.append(res[0])\n",
    "        recall.append(res[1])\n",
    "        f1.append(res[2])\n",
    "    return sum(accuracy)/len(accuracy), sum(precision)/len(precision), sum(recall)/len(recall), sum(f1)/len(f1), "
   ]
  },
  {
   "cell_type": "markdown",
   "metadata": {},
   "source": [
    "##### Question1:\n",
    "Implement a KNN classifier for each of the datasets. Report precision, recall, f1\n",
    "score and accuracy. Compare your result with in-built(scikit-learn) KNN function\n",
    "to check correctness of your algorithm."
   ]
  },
  {
   "cell_type": "code",
   "execution_count": 10,
   "metadata": {},
   "outputs": [],
   "source": [
    "clf1_me = knearestneighbors(k=3, metric='euclidean')\n",
    "#clf1_sk = neighbors.KNeighborsClassifier(n_neighbors=3, algorithm='brute', metric = 'euclidean')"
   ]
  },
  {
   "cell_type": "code",
   "execution_count": 11,
   "metadata": {},
   "outputs": [
    {
     "data": {
      "text/plain": [
       "KNeighborsClassifier(algorithm='brute', leaf_size=30, metric='euclidean',\n",
       "           metric_params=None, n_jobs=None, n_neighbors=3, p=2,\n",
       "           weights='uniform')"
      ]
     },
     "execution_count": 11,
     "metadata": {},
     "output_type": "execute_result"
    }
   ],
   "source": [
    "clf_sk = neighbors.KNeighborsClassifier(n_neighbors=3, algorithm='brute', metric = 'euclidean')\n",
    "clf_sk.fit(X_train_1, Y_train_1)"
   ]
  },
  {
   "cell_type": "code",
   "execution_count": 12,
   "metadata": {},
   "outputs": [],
   "source": [
    "acc_me, pre_me, re_me, f1_me = k_fold_cross_val(X_train_1, Y_train_1, clf1_me)\n",
    "acc_sk, pre_sk, re_sk, f1_sk = cross_val_score(clf, X_train_1, Y_train_1, cv=10, scoring='accuracy').mean(), cross_val_score(clf, X_train_1, Y_train_1, cv=10, scoring='precision_weighted').mean(), cross_val_score(clf, X_train_1, Y_train_1, cv=10, scoring='recall_weighted').mean(), cross_val_score(clf, X_train_1, Y_train_1, cv=10, scoring='f1_weighted').mean()"
   ]
  },
  {
   "cell_type": "code",
   "execution_count": 13,
   "metadata": {},
   "outputs": [
    {
     "name": "stdout",
     "output_type": "stream",
     "text": [
      "                         My Classifier                   Sklearn Classifier\n",
      "accuracy score:        0.7352564102564103                0.6392857142857142\n",
      "precision score:       0.7623720029970029                0.6921338383838384\n",
      "recall score:          0.7352564102564103                0.6392857142857142\n",
      "f1 score:              0.7252285945049104                0.6100351480305041\n"
     ]
    }
   ],
   "source": [
    "print(\"                         My Classifier                   Sklearn Classifier\")\n",
    "print(\"accuracy score:        {0}                {1}\".format(acc_me, acc_sk))\n",
    "print(\"precision score:       {0}                {1}\".format(pre_me, pre_sk))\n",
    "print(\"recall score:          {0}                {1}\".format(re_me, re_sk))\n",
    "print(\"f1 score:              {0}                {1}\".format(f1_me, f1_sk))"
   ]
  },
  {
   "cell_type": "code",
   "execution_count": 14,
   "metadata": {},
   "outputs": [],
   "source": [
    "acc_me, pre_me, re_me, f1_me = k_fold_cross_val(X_train_2, Y_train_2, clf1_me)\n",
    "acc_sk, pre_sk, re_sk, f1_sk = cross_val_score(clf, X_train_2, Y_train_2, cv=10, scoring='accuracy').mean(), cross_val_score(clf, X_train_2, Y_train_2, cv=10, scoring='precision_weighted').mean(), cross_val_score(clf, X_train_2, Y_train_2, cv=10, scoring='recall_weighted').mean(), cross_val_score(clf, X_train_2, Y_train_2, cv=10, scoring='f1_weighted').mean()"
   ]
  },
  {
   "cell_type": "code",
   "execution_count": 15,
   "metadata": {},
   "outputs": [
    {
     "name": "stdout",
     "output_type": "stream",
     "text": [
      "                         My Classifier                   Sklearn Classifier\n",
      "accuracy score:        0.8294871794871794                0.8461538461538461\n",
      "precision score:       0.8649760887260888                0.8790842490842492\n",
      "recall score:          0.8294871794871794                0.8461538461538461\n",
      "f1 score:              0.8240336284086283                0.8407725607725608\n"
     ]
    }
   ],
   "source": [
    "print(\"                         My Classifier                   Sklearn Classifier\")\n",
    "print(\"accuracy score:        {0}                {1}\".format(acc_me, acc_sk))\n",
    "print(\"precision score:       {0}                {1}\".format(pre_me, pre_sk))\n",
    "print(\"recall score:          {0}                {1}\".format(re_me, re_sk))\n",
    "print(\"f1 score:              {0}                {1}\".format(f1_me, f1_sk))"
   ]
  },
  {
   "cell_type": "code",
   "execution_count": 16,
   "metadata": {},
   "outputs": [],
   "source": [
    "acc_me, pre_me, re_me, f1_me = k_fold_cross_val(X_train_3, Y_train_3, clf1_me)\n",
    "acc_sk, pre_sk, re_sk, f1_sk = cross_val_score(clf, X_train_3, Y_train_3, cv=10, scoring='accuracy').mean(), cross_val_score(clf, X_train_3, Y_train_3, cv=10, scoring='precision_weighted').mean(), cross_val_score(clf, X_train_3, Y_train_3, cv=10, scoring='recall_weighted').mean(), cross_val_score(clf, X_train_3, Y_train_3, cv=10, scoring='f1_weighted').mean()"
   ]
  },
  {
   "cell_type": "code",
   "execution_count": 17,
   "metadata": {},
   "outputs": [
    {
     "name": "stdout",
     "output_type": "stream",
     "text": [
      "                         My Classifier                   Sklearn Classifier\n",
      "accuracy score:        0.9626373626373628                0.9566666666666667\n",
      "precision score:       0.9711538461538461                0.9676190476190476\n",
      "recall score:          0.9626373626373628                0.9566666666666667\n",
      "f1 score:              0.9626047629021126                0.9552910052910054\n"
     ]
    }
   ],
   "source": [
    "print(\"                         My Classifier                   Sklearn Classifier\")\n",
    "print(\"accuracy score:        {0}                {1}\".format(acc_me, acc_sk))\n",
    "print(\"precision score:       {0}                {1}\".format(pre_me, pre_sk))\n",
    "print(\"recall score:          {0}                {1}\".format(re_me, re_sk))\n",
    "print(\"f1 score:              {0}                {1}\".format(f1_me, f1_sk))"
   ]
  },
  {
   "cell_type": "code",
   "execution_count": 18,
   "metadata": {},
   "outputs": [],
   "source": [
    "#clf1_me.predict(X_train_1, Y_train_1, X_test_1)"
   ]
  },
  {
   "cell_type": "markdown",
   "metadata": {},
   "source": [
    "#### Question 2:\n",
    "Use different distance measures as applicable. Plot graph to report accuracy with\n",
    "change in value of K. Also suggest possible reason for better performance."
   ]
  },
  {
   "cell_type": "code",
   "execution_count": 19,
   "metadata": {},
   "outputs": [],
   "source": [
    "acc_lst = []\n",
    "for i in range(1,30,2):\n",
    "    clf = knearestneighbors(k=i, metric='euclidean')\n",
    "    acc_lst.append((i,k_fold_cross_val(X_train_1, Y_train_1, clf)[0]))"
   ]
  },
  {
   "cell_type": "code",
   "execution_count": 20,
   "metadata": {},
   "outputs": [
    {
     "data": {
      "image/png": "[encoded data removed]",
      "text/plain": [
       "<Figure size 432x288 with 1 Axes>"
      ]
     },
     "metadata": {
      "needs_background": "light"
     },
     "output_type": "display_data"
    }
   ],
   "source": [
    "X_lst = []\n",
    "Y_lst = []\n",
    "for i in range(0,len(acc_lst)):\n",
    "    X_lst.append(acc_lst[i][0])\n",
    "    Y_lst.append(acc_lst[i][1])\n",
    "#print(X_lst)\n",
    "#print(Y_lst)\n",
    "plt.plot(X_lst,Y_lst)\n",
    "plt.xlabel(\"K\")\n",
    "plt.ylabel(\"accuracy\")\n",
    "plt.title('KNN with euclidean distance')\n",
    "plt.show()"
   ]
  },
  {
   "cell_type": "code",
   "execution_count": 21,
   "metadata": {},
   "outputs": [],
   "source": [
    "acc_lst = []\n",
    "for i in range(1,30,2):\n",
    "    clf = knearestneighbors(k=i, metric='minkowski')\n",
    "    acc_lst.append((i,k_fold_cross_val(X_train_1, Y_train_1, clf1_me)[0]))"
   ]
  },
  {
   "cell_type": "code",
   "execution_count": 22,
   "metadata": {},
   "outputs": [
    {
     "data": {
      "image/png": "[encoded data removed]",
      "text/plain": [
       "<Figure size 432x288 with 1 Axes>"
      ]
     },
     "metadata": {
      "needs_background": "light"
     },
     "output_type": "display_data"
    }
   ],
   "source": [
    "X_lst = []\n",
    "Y_lst = []\n",
    "for i in range(0,len(acc_lst)):\n",
    "    X_lst.append(acc_lst[i][0])\n",
    "    Y_lst.append(acc_lst[i][1])\n",
    "#print(X_lst)\n",
    "#print(Y_lst)\n",
    "plt.plot(X_lst,Y_lst)\n",
    "plt.xlabel(\"K\")\n",
    "plt.ylabel(\"accuracy\")\n",
    "plt.title('KNN with minkowski distance')\n",
    "plt.show()"
   ]
  },
  {
   "cell_type": "code",
   "execution_count": 23,
   "metadata": {},
   "outputs": [],
   "source": [
    "acc_lst = []\n",
    "for i in range(1,30,2):\n",
    "    clf = knearestneighbors(k=i, metric='euclidean')\n",
    "    acc_lst.append((i,k_fold_cross_val(X_train_2, Y_train_2, clf)[0]))"
   ]
  },
  {
   "cell_type": "code",
   "execution_count": 24,
   "metadata": {},
   "outputs": [
    {
     "data": {
      "image/png": "[encoded data removed]",
      "text/plain": [
       "<Figure size 432x288 with 1 Axes>"
      ]
     },
     "metadata": {
      "needs_background": "light"
     },
     "output_type": "display_data"
    }
   ],
   "source": [
    "X_lst = []\n",
    "Y_lst = []\n",
    "for i in range(0,len(acc_lst)):\n",
    "    X_lst.append(acc_lst[i][0])\n",
    "    Y_lst.append(acc_lst[i][1])\n",
    "#print(X_lst)\n",
    "#print(Y_lst)\n",
    "plt.plot(X_lst,Y_lst)\n",
    "plt.xlabel(\"K\")\n",
    "plt.ylabel(\"accuracy\")\n",
    "plt.title('KNN with euclidean distance')\n",
    "plt.show()"
   ]
  },
  {
   "cell_type": "code",
   "execution_count": 25,
   "metadata": {},
   "outputs": [],
   "source": [
    "acc_lst = []\n",
    "for i in range(1,30,2):\n",
    "    clf = knearestneighbors(k=i, metric='euclidean')\n",
    "    acc_lst.append((i,k_fold_cross_val(X_train_2, Y_train_2, clf1_me)[0]))"
   ]
  },
  {
   "cell_type": "code",
   "execution_count": 26,
   "metadata": {},
   "outputs": [
    {
     "data": {
      "image/png": "[encoded data removed]",
      "text/plain": [
       "<Figure size 432x288 with 1 Axes>"
      ]
     },
     "metadata": {
      "needs_background": "light"
     },
     "output_type": "display_data"
    }
   ],
   "source": [
    "X_lst = []\n",
    "Y_lst = []\n",
    "for i in range(0,len(acc_lst)):\n",
    "    X_lst.append(acc_lst[i][0])\n",
    "    Y_lst.append(acc_lst[i][1])\n",
    "#print(X_lst)\n",
    "#print(Y_lst)\n",
    "plt.plot(X_lst,Y_lst)\n",
    "plt.xlabel(\"K\")\n",
    "plt.ylabel(\"accuracy\")\n",
    "plt.title('KNN with euclidean distance')\n",
    "plt.show()"
   ]
  },
  {
   "cell_type": "code",
   "execution_count": 27,
   "metadata": {},
   "outputs": [
    {
     "name": "stderr",
     "output_type": "stream",
     "text": [
      "/home/neil/.local/lib/python3.6/site-packages/sklearn/metrics/classification.py:1145: UndefinedMetricWarning: Recall and F-score are ill-defined and being set to 0.0 in labels with no true samples.\n",
      "  'recall', 'true', average, warn_for)\n"
     ]
    }
   ],
   "source": [
    "acc_lst = []\n",
    "for i in range(1,30,2):\n",
    "    clf = knearestneighbors(k=i, metric='minkowski')\n",
    "    acc_lst.append((i,k_fold_cross_val(X_train_3, Y_train_3, clf1_me)[0]))"
   ]
  },
  {
   "cell_type": "code",
   "execution_count": 28,
   "metadata": {},
   "outputs": [
    {
     "data": {
      "image/png": "[encoded data removed]",
      "text/plain": [
       "<Figure size 432x288 with 1 Axes>"
      ]
     },
     "metadata": {
      "needs_background": "light"
     },
     "output_type": "display_data"
    }
   ],
   "source": [
    "X_lst = []\n",
    "Y_lst = []\n",
    "for i in range(0,len(acc_lst)):\n",
    "    X_lst.append(acc_lst[i][0])\n",
    "    Y_lst.append(acc_lst[i][1])\n",
    "#print(X_lst)\n",
    "#print(Y_lst)\n",
    "plt.plot(X_lst,Y_lst)\n",
    "plt.xlabel(\"K\")\n",
    "plt.ylabel(\"accuracy\")\n",
    "plt.title('KNN with minkowski distance')\n",
    "plt.show()"
   ]
  },
  {
   "cell_type": "markdown",
   "metadata": {},
   "source": [
    "#### Report\n",
    "The other distance measure in KNN algorith that I've used is <strong>minkowski's distance</strong>.\n",
    "\n",
    "Apart from that the accuracy varies with the value of k and it doesn't show any increase in accuracy when k is increased. So we need to train for quite a few values of K and choose the K that has best accuracy."
   ]
  },
  {
   "cell_type": "markdown",
   "metadata": {},
   "source": [
    "# Part 2:\n",
    "A bank is implementing a system to identify potential customers who have\n",
    "higher probablity of availing loans to increase its profit. Implement Naive Bayes classifier\n",
    "on this dataset to help bank achieve its goal. Report your observations and accuracy\n",
    "of the model."
   ]
  },
  {
   "cell_type": "code",
   "execution_count": 29,
   "metadata": {},
   "outputs": [],
   "source": [
    "train_df = pd.read_csv('LoanDataset/data.csv', header=None, names = ['id', 'age', 'experience','income', 'zip', 'family size', 'monthly spend', 'education', 'mortage', 'accepted loan', 'security account', 'certificate of deposit', 'internet banking', 'credit card' ])"
   ]
  },
  {
   "cell_type": "code",
   "execution_count": 30,
   "metadata": {},
   "outputs": [],
   "source": [
    "mp = {x:i for x,i in zip(train_df['zip'].unique().tolist(),range(len(train_df['zip'].unique().tolist())))}"
   ]
  },
  {
   "cell_type": "code",
   "execution_count": 31,
   "metadata": {},
   "outputs": [],
   "source": [
    "train_df['zip'] = train_df['zip'].map(mp)"
   ]
  },
  {
   "cell_type": "code",
   "execution_count": 32,
   "metadata": {},
   "outputs": [],
   "source": [
    "train_df = train_df.drop('id', axis=1)"
   ]
  },
  {
   "cell_type": "code",
   "execution_count": 33,
   "metadata": {},
   "outputs": [],
   "source": [
    "from sklearn.model_selection import train_test_split\n",
    "X_train, X_test, Y_train, Y_test = train_test_split(train_df.drop('accepted loan', axis=1),train_df['accepted loan'], test_size=0.2,shuffle=True)"
   ]
  },
  {
   "cell_type": "code",
   "execution_count": 34,
   "metadata": {},
   "outputs": [],
   "source": [
    "discrete = ['education', 'family size', 'security account', 'certificate of deposit', 'internet banking', 'credit card', 'zip']\n",
    "continuous = ['age', 'experience', 'income', 'mortage']"
   ]
  },
  {
   "cell_type": "code",
   "execution_count": 35,
   "metadata": {},
   "outputs": [],
   "source": [
    "class NaiveBayesClassifier:\n",
    "    def __init__(self):\n",
    "        self.mean_X_C_Y = 0\n",
    "        self.mean_X_C_N = 0\n",
    "        self.var_X_C_Y = 0\n",
    "        self.var_X_C_N = 0\n",
    "        self.priors = 0\n",
    "        self.prob_Y = []\n",
    "        self.prob_N = []\n",
    "        self.discrete_map = {}\n",
    "        self.l_X_train_Y = 0\n",
    "        self.l_X_train_N = 0\n",
    "        self.l_X_train = 0\n",
    "        self.discrete = []\n",
    "        self.continuous = []\n",
    "    def fit(self, X_train, Y_train, discrete, continuous):\n",
    "        self.discrete = discrete\n",
    "        self.continuous = continuous\n",
    "        self.mean_X_C_Y = X_train[continuous][Y_train==1].mean()\n",
    "        self.mean_X_C_N = X_train[continuous][Y_train==0].mean()\n",
    "        self.var_X_C_Y = X_train[continuous][Y_train==1].var()\n",
    "        self.var_X_C_N = X_train[continuous][Y_train==0].var()\n",
    "        self.priors = [Counter(Y_train).most_common()[0][1]/len(Y_train),Counter(Y_train).most_common()[1][1]/len(Y_train)]\n",
    "        X_train_Y = X_train[Y_train == 1]\n",
    "        X_train_N = X_train[Y_train == 0]\n",
    "        self.l_X_train_Y = len(X_train_Y)\n",
    "        self.l_X_train_N = len(X_train_N)\n",
    "        self.l_X_train = len(X_train)\n",
    "        for x in discrete:\n",
    "            self.prob_Y.append(Counter(X_train_Y[x]))\n",
    "            self.prob_N.append(Counter(X_train_N[x]))\n",
    "        for i in range(len(self.prob_Y)):\n",
    "            for key in self.prob_Y[i]:\n",
    "                self.prob_Y[i][key]/=len(X_train_Y)\n",
    "        for i in range(len(self.prob_N)):\n",
    "            for key in self.prob_N[i]:\n",
    "                self.prob_N[i][key]/=len(X_train_N)\n",
    "        self.discrete_map = {x:i for x,i in zip(discrete, range(len(discrete)))}\n",
    "    def likelihood(self, X, mean, variance):\n",
    "        return (1 / np.sqrt(2 * np.pi * variance)) * np.exp((-(X - mean) ** 2) / (2 * variance))\n",
    "    def predict(self, X_test):\n",
    "        ans = []\n",
    "        X_ts = X_test[self.discrete].to_dict('records')\n",
    "        for i in range(len(X_test)):\n",
    "            yn = (self.l_X_train_N/self.l_X_train) * np.prod([self.prob_N[self.discrete_map[key]][X_ts[i][key]] for key in X_ts[i]]) * np.prod(self.likelihood(X_test[self.continuous].iloc[i], self.mean_X_C_N, self.var_X_C_N))\n",
    "            yy = (self.l_X_train_Y/self.l_X_train) * np.prod([self.prob_Y[self.discrete_map[key]][X_ts[i][key]] for key in X_ts[i]]) * np.prod(self.likelihood(X_test[self.continuous].iloc[i], self.mean_X_C_Y, self.var_X_C_Y))\n",
    "            a = 0 if yn>yy else 1\n",
    "            ans.append(a)\n",
    "        return ans"
   ]
  },
  {
   "cell_type": "code",
   "execution_count": 36,
   "metadata": {},
   "outputs": [],
   "source": [
    "clf = NaiveBayesClassifier()"
   ]
  },
  {
   "cell_type": "code",
   "execution_count": 37,
   "metadata": {},
   "outputs": [],
   "source": [
    "clf.fit(X_train, Y_train, discrete, continuous)"
   ]
  },
  {
   "cell_type": "code",
   "execution_count": 38,
   "metadata": {},
   "outputs": [
    {
     "data": {
      "text/plain": [
       "GaussianNB(priors=None, var_smoothing=1e-09)"
      ]
     },
     "execution_count": 38,
     "metadata": {},
     "output_type": "execute_result"
    }
   ],
   "source": [
    "from sklearn.naive_bayes import GaussianNB\n",
    "gnb = GaussianNB()\n",
    "gnb.fit(X_train, Y_train)"
   ]
  },
  {
   "cell_type": "code",
   "execution_count": 39,
   "metadata": {},
   "outputs": [],
   "source": [
    "acc_me = accuracy_score(clf.predict(X_test), Y_test)\n",
    "res = precision_recall_fscore_support(clf.predict(X_test), Y_test, average = 'binary')\n",
    "pre_me, re_me, f1_me = res[0], res[1], res[2]"
   ]
  },
  {
   "cell_type": "code",
   "execution_count": 40,
   "metadata": {},
   "outputs": [],
   "source": [
    "acc_sk = accuracy_score(gnb.predict(X_test), Y_test)\n",
    "res = precision_recall_fscore_support(gnb.predict(X_test), Y_test, average = 'binary')\n",
    "pre_sk, re_sk, f1_sk = res[0], res[1], res[2]"
   ]
  },
  {
   "cell_type": "code",
   "execution_count": 41,
   "metadata": {},
   "outputs": [
    {
     "name": "stdout",
     "output_type": "stream",
     "text": [
      "                         My Classifier                   Sklearn Classifier\n",
      "accuracy score:        0.9022222222222223                0.88\n",
      "precision score:       0.4157303370786517                0.5730337078651685\n",
      "recall score:          0.5068493150684932                0.4214876033057851\n",
      "f1 score:              0.45679012345679015                0.4857142857142857\n"
     ]
    }
   ],
   "source": [
    "print(\"                         My Classifier                   Sklearn Classifier\")\n",
    "print(\"accuracy score:        {0}                {1}\".format(acc_me, acc_sk))\n",
    "print(\"precision score:       {0}                {1}\".format(pre_me, pre_sk))\n",
    "print(\"recall score:          {0}                {1}\".format(re_me, re_sk))\n",
    "print(\"f1 score:              {0}                {1}\".format(f1_me, f1_sk))"
   ]
  },
  {
   "cell_type": "markdown",
   "metadata": {},
   "source": [
    "#### Report:\n",
    "The probabilty of continous features has been found using <strong>Gaussian function</strong> and for discrete features I've found <strong>Conditional Probablity</strong> with respect to each output label for each class of the feature. To find the final probability I've used \n",
    "$$\\hat{y}= \\underset{k\\;\\in\\;\\{1,..K\\}} {\\mathrm{argmax}} \\;\\;P(C_k)\\prod_{i=1}^mp\\left(x_i\\;|\\;C_k\\right)\\prod_{j=m}^nP\\left(x_j\\;|\\;C_k\\right)\\;\\;?$$"
   ]
  },
  {
   "cell_type": "markdown",
   "metadata": {},
   "source": [
    "## Part 3:\n",
    "We are given a dataset containing various criteria important to get admissions into Master’s program and probablity of getting an admit"
   ]
  },
  {
   "cell_type": "code",
   "execution_count": 42,
   "metadata": {},
   "outputs": [],
   "source": [
    "train_df = pd.read_csv('AdmissionDataset/data.csv')"
   ]
  },
  {
   "cell_type": "code",
   "execution_count": 43,
   "metadata": {},
   "outputs": [],
   "source": [
    "from sklearn.model_selection import train_test_split\n",
    "X_train, X_val, Y_train, Y_val = train_test_split(train_df.drop(['Serial No.','Chance of Admit '], axis=1),train_df['Chance of Admit '], test_size=0.2,shuffle=True)"
   ]
  },
  {
   "cell_type": "code",
   "execution_count": 44,
   "metadata": {},
   "outputs": [],
   "source": [
    "class linear_regression:\n",
    "    def __init__(self, alpha=0.1, iteration=1000, loss_func = \"MSE\"):\n",
    "        self.alpha = alpha \n",
    "        self.iterations = iteration\n",
    "        self.loss_func = loss_func\n",
    "        self.mean = 0\n",
    "        self.std = 0\n",
    "        self.m = 0\n",
    "        self.theta = []\n",
    "    def fit(self,x_tr, y_tr):\n",
    "        self.m = x_tr.size\n",
    "        self.mean = x_tr.mean()\n",
    "        self.std = x_tr.std()\n",
    "        x_tr = (x_tr - self.mean)/self.std\n",
    "        theta = np.random.rand(len(x_tr.iloc[0])+1)\n",
    "        past_costs = []\n",
    "        past_thetas = [theta]\n",
    "        x = np.c_[np.ones(len(x_tr.iloc[:,0])),x_tr]\n",
    "        for i in range(self.iterations):\n",
    "            prediction = np.dot(x, theta.T)\n",
    "            #print(len(prediction) == len(x_tr))\n",
    "            error = prediction - y_tr\n",
    "            #print(error)\n",
    "            if self.loss_func == 'MSE':\n",
    "                cost = 1/(2*self.m) * np.dot(error.T, error)\n",
    "                past_costs.append(cost)\n",
    "                theta = theta - (self.alpha * (1/self.m) * np.dot(x.T, error))\n",
    "            elif self.loss_func == 'MAE':\n",
    "                    cost = 1/(self.m)*np.sum(np.abs(error))\n",
    "                    past_costs.append(cost)\n",
    "                    theta = theta - (self.alpha * (1/self.m) *( np.dot(x.T, error/np.abs(error))))\n",
    "            elif self.loss_func == 'MAPE':\n",
    "                cost = 1/(self.m)*np.sum(np.abs(error)/y_tr)\n",
    "                past_costs.append(cost)\n",
    "                theta = theta - (self.alpha * (1/self.m) *( np.dot(x.T, error/(y_tr*np.abs(error)))))\n",
    "            past_thetas.append(theta)\n",
    "            self.theta = past_thetas[-1]\n",
    "        return past_thetas, past_costs\n",
    "    def predict(self, x_val):\n",
    "        x_val = (x_val - self.mean)/self.std\n",
    "        x = np.c_[np.ones(len(x_val.iloc[:,0])),x_val]\n",
    "        return np.dot(x, self.theta.T)\n",
    "    #past_thetas, past_costs = gradient_descent(X_train_4, Y_train_4, theta, iterations, alpha)\n",
    "    #theta = past_thetas[-1]\n",
    "    def mean_abs_error(self, y_pred, y_true):\n",
    "        return (1/len(y_pred))*np.sum(np.abs((y_pred-y_true)))\n",
    "    def mean_square_error(self, y_pred, y_true):\n",
    "        return (1/(2*len(y_pred)))*np.sum(np.square((y_pred-y_true)))\n",
    "    def mean_abs_per_error(self, y_pred, y_true):\n",
    "        return (1/len(y_pred))*np.sum(np.abs((y_pred-y_true)/y_true))"
   ]
  },
  {
   "cell_type": "code",
   "execution_count": 45,
   "metadata": {},
   "outputs": [],
   "source": [
    "class linear_regression_normal:\n",
    "    def __init__(self):\n",
    "        self.theta = []\n",
    "        self.mean = 0\n",
    "        self.std = 0\n",
    "    def fit(self, x_tr, y_tr):\n",
    "        self.m = x_tr.size\n",
    "        self.mean = x_tr.mean()\n",
    "        self.std = x_tr.std()\n",
    "        x_tr = (x_tr - self.mean)/self.std\n",
    "        x = np.c_[np.ones(len(x_tr.iloc[:,0])),x_tr]\n",
    "        self.theta = np.dot(np.linalg.pinv(np.dot(x.T,x)),np.dot(x.T,y_tr))\n",
    "    def predict(self, x_val):\n",
    "        x_val = (x_val - self.mean)/self.std\n",
    "        x = np.c_[np.ones(len(x_val.iloc[:,0])),x_val]\n",
    "        return np.dot(x, self.theta.T)"
   ]
  },
  {
   "cell_type": "code",
   "execution_count": 46,
   "metadata": {},
   "outputs": [],
   "source": [
    "clf = linear_regression(loss_func='MSE')\n",
    "clfne = linear_regression_normal()"
   ]
  },
  {
   "cell_type": "code",
   "execution_count": 47,
   "metadata": {},
   "outputs": [],
   "source": [
    "from sklearn.linear_model import LinearRegression\n",
    "reg = LinearRegression()"
   ]
  },
  {
   "cell_type": "code",
   "execution_count": 48,
   "metadata": {},
   "outputs": [
    {
     "data": {
      "text/plain": [
       "LinearRegression(copy_X=True, fit_intercept=True, n_jobs=None,\n",
       "         normalize=False)"
      ]
     },
     "execution_count": 48,
     "metadata": {},
     "output_type": "execute_result"
    }
   ],
   "source": [
    "past_thetas, past_costs = clf.fit(X_train, Y_train)\n",
    "clfne.fit(X_train, Y_train)\n",
    "reg.fit(X_train, Y_train)"
   ]
  },
  {
   "cell_type": "code",
   "execution_count": 49,
   "metadata": {},
   "outputs": [
    {
     "data": {
      "image/png": "[encoded data removed]",
      "text/plain": [
       "<Figure size 432x288 with 1 Axes>"
      ]
     },
     "metadata": {
      "needs_background": "light"
     },
     "output_type": "display_data"
    }
   ],
   "source": [
    "plt.title('Cost Function J')\n",
    "plt.xlabel('No. of iterations')\n",
    "plt.ylabel('Cost')\n",
    "plt.plot(past_costs)\n",
    "plt.show()"
   ]
  },
  {
   "cell_type": "code",
   "execution_count": 50,
   "metadata": {},
   "outputs": [],
   "source": [
    "Y_pred_me = clf.predict(X_val)\n",
    "Y_pred_sk = reg.predict(X_val)\n",
    "Y_pred_ne = clfne.predict(X_val)"
   ]
  },
  {
   "cell_type": "code",
   "execution_count": 51,
   "metadata": {},
   "outputs": [
    {
     "name": "stdout",
     "output_type": "stream",
     "text": [
      "                   My Classifier           Sklearn Classifier      Normal Equation Classifier\n",
      "r2 score:         0.7671539661923364        0.7830442802778002         0.7830442802777986\n"
     ]
    }
   ],
   "source": [
    "from sklearn.metrics import r2_score\n",
    "r2_me = r2_score(Y_pred_me, Y_val)\n",
    "r2_sk = r2_score(Y_pred_sk, Y_val)\n",
    "r2_ne = r2_score(Y_pred_ne, Y_val)\n",
    "print(\"                   My Classifier           Sklearn Classifier      Normal Equation Classifier\")\n",
    "print(\"r2 score:         {0}        {1}         {2}\".format(r2_me, r2_sk, r2_ne))"
   ]
  },
  {
   "cell_type": "code",
   "execution_count": 52,
   "metadata": {},
   "outputs": [],
   "source": [
    "#y_test = clf.predict(X_test)"
   ]
  },
  {
   "cell_type": "markdown",
   "metadata": {},
   "source": [
    "##### Question 2:\n",
    "Compare the performance of Mean square error loss function vs Mean Absolute\n",
    "error function vs Mean absolute percentage error function and explain the reasons\n",
    "for the observed behaviour."
   ]
  },
  {
   "cell_type": "code",
   "execution_count": 53,
   "metadata": {},
   "outputs": [
    {
     "name": "stdout",
     "output_type": "stream",
     "text": [
      "Mean Square error:                0.0017756050372874277\n",
      "Mean absolute error:              0.04038449062189775\n",
      "Mean absolute percentage error:   0.06305757149591333\n",
      "                         MSE Classifier                   MAE Classifier                MAPE Classifier\n",
      "r2 score:               0.767635149506804                0.7632775874819664           0.7207456073916796\n"
     ]
    }
   ],
   "source": [
    "clf1 = linear_regression(loss_func='MSE')\n",
    "clf2 = linear_regression(loss_func='MAE')\n",
    "clf3 = linear_regression(loss_func='MAPE')\n",
    "_,pc1 = clf1.fit(X_train, Y_train)\n",
    "_,pc2 = clf2.fit(X_train, Y_train)\n",
    "_,pc3 = clf3.fit(X_train, Y_train)\n",
    "Y_pred_me1 = clf1.predict(X_val)\n",
    "Y_pred_me2 = clf2.predict(X_val)\n",
    "Y_pred_me3 = clf3.predict(X_val)\n",
    "mse_error = clf1.mean_square_error(Y_pred_me1, Y_val)\n",
    "mae_error = clf2.mean_abs_error(Y_pred_me2, Y_val)\n",
    "mape_error = clf3.mean_abs_per_error(Y_pred_me3, Y_val)\n",
    "print(\"Mean Square error:                {0}\".format(mse_error))\n",
    "print(\"Mean absolute error:              {0}\".format(mae_error))\n",
    "print(\"Mean absolute percentage error:   {0}\".format(mape_error))\n",
    "print(\"                         MSE Classifier                   MAE Classifier                MAPE Classifier\")\n",
    "print(\"r2 score:               {0}                {1}           {2}\".format(r2_score(Y_pred_me1, Y_val), r2_score(Y_pred_me2, Y_val),r2_score(Y_pred_me3, Y_val)))"
   ]
  },
  {
   "cell_type": "code",
   "execution_count": 54,
   "metadata": {},
   "outputs": [
    {
     "data": {
      "image/png": "[encoded data removed]",
      "text/plain": [
       "<Figure size 432x288 with 1 Axes>"
      ]
     },
     "metadata": {
      "needs_background": "light"
     },
     "output_type": "display_data"
    }
   ],
   "source": [
    "plt.title('Cost Function J')\n",
    "plt.plot(pc1, label='MSE Cost')\n",
    "plt.plot(pc2, label='MAE Cost')\n",
    "plt.plot(pc3, label='MAPE Cost')\n",
    "plt.xlabel('No. of iterations')\n",
    "plt.ylabel('Cost')\n",
    "plt.legend()\n",
    "plt.show()"
   ]
  },
  {
   "cell_type": "markdown",
   "metadata": {},
   "source": [
    "##### Question 3:\n",
    "Analyse and report the behaviour of the coefficients(for example: sign of coefficients, value of coefficients etc.) and support it with appropriate plots as neces-\n",
    "sary\n"
   ]
  },
  {
   "cell_type": "code",
   "execution_count": 55,
   "metadata": {},
   "outputs": [
    {
     "data": {
      "image/png": "[encoded data removed]",
      "text/plain": [
       "<Figure size 432x288 with 1 Axes>"
      ]
     },
     "metadata": {
      "needs_background": "light"
     },
     "output_type": "display_data"
    }
   ],
   "source": [
    "past_thtas = np.asarray(past_thetas).T\n",
    "for i in range(len(X_train.iloc[0])+1):\n",
    "    plt.plot(past_thtas[i,:], label = 'coffecient '+str(i))\n",
    "plt.legend()\n",
    "plt.show()\n",
    "#past_thtas.shape"
   ]
  },
  {
   "cell_type": "code",
   "execution_count": 56,
   "metadata": {},
   "outputs": [
    {
     "data": {
      "image/png": "[encoded data removed]",
      "text/plain": [
       "<Figure size 432x288 with 1 Axes>"
      ]
     },
     "metadata": {
      "needs_background": "light"
     },
     "output_type": "display_data"
    }
   ],
   "source": [
    "plt.scatter(X_val.iloc[:, 0], Y_pred_me1 - Y_val)\n",
    "plt.ylabel(\"Residual value\")\n",
    "plt.xlabel(\"GRE Score\")\n",
    "plt.title(\"Residual plot for GRE score\")\n",
    "plt.show()"
   ]
  },
  {
   "cell_type": "markdown",
   "metadata": {},
   "source": [
    "#### Report:\n",
    "It can be seen that the cofficients decreases with increase in iteration and finally get to a almost constant value"
   ]
  },
  {
   "cell_type": "markdown",
   "metadata": {},
   "source": [
    "## Part 4:\n",
    "Use the Admission dataset as in the third question for logistic regression."
   ]
  },
  {
   "cell_type": "markdown",
   "metadata": {},
   "source": [
    "#### Question 1:\n",
    "Implement logistic regression model to predict if the student will get admit"
   ]
  },
  {
   "cell_type": "code",
   "execution_count": 104,
   "metadata": {},
   "outputs": [],
   "source": [
    "train_df = pd.read_csv('AdmissionDataset/data.csv')"
   ]
  },
  {
   "cell_type": "code",
   "execution_count": 105,
   "metadata": {},
   "outputs": [],
   "source": [
    "from sklearn.model_selection import train_test_split\n",
    "X_train, X_val, Y_train, Y_val = train_test_split(train_df.drop(['Serial No.','Chance of Admit '], axis=1),train_df['Chance of Admit '], test_size=0.2,shuffle=True)"
   ]
  },
  {
   "cell_type": "code",
   "execution_count": 106,
   "metadata": {},
   "outputs": [],
   "source": [
    "class logistic_regression:\n",
    "    def __init__(self, alpha=0.1, iteration=1000, threshold = 0.5):\n",
    "        self.alpha = alpha \n",
    "        self.iterations = iteration\n",
    "        self.mean = 0\n",
    "        self.std = 0\n",
    "        self.theta = []\n",
    "        self.threshold = threshold\n",
    "    def fit(self,x_tr, y_tr):\n",
    "        m = x_tr.size\n",
    "        self.mean = x_tr.mean()\n",
    "        self.std = x_tr.std()\n",
    "        x_tr = (x_tr - self.mean)/self.std\n",
    "        theta = np.random.rand(len(x_tr.iloc[0])+1)\n",
    "        past_costs = []\n",
    "        past_thetas = [theta]\n",
    "        x = np.c_[np.ones(len(x_tr.iloc[:,0])),x_tr]\n",
    "        for i in range(self.iterations):\n",
    "            prediction = self.sigmoid(np.dot(x, theta.T))\n",
    "            #prediction[prediction>=0.5] = 1\n",
    "            #prediction[prediction<0.5] = 0\n",
    "            #print(len(prediction) == len(x_tr))\n",
    "            error = prediction - y_tr\n",
    "            #print(error)\n",
    "            cost = - 1/(m) * (np.dot(y_tr.T, error) + np.dot(1-y_tr,1-error))\n",
    "            past_costs.append(cost)\n",
    "            theta = theta - (self.alpha * (1/m) * np.dot(x.T, error))\n",
    "            past_thetas.append(theta)\n",
    "            self.theta = past_thetas[-1]\n",
    "        return past_thetas, past_costs\n",
    "    def predict(self, x_val):\n",
    "        x_val = (x_val - self.mean)/self.std\n",
    "        x = np.c_[np.ones(len(x_val.iloc[:,0])),x_val]\n",
    "        prediction = self.sigmoid(np.dot(x, self.theta.T))\n",
    "        prediction[prediction>=self.threshold] = 1\n",
    "        prediction[prediction<self.threshold] = 0\n",
    "        return prediction\n",
    "    def sigmoid(self,x):\n",
    "        return (np.exp(x)/(1+np.exp(x)))\n",
    "    #past_thetas, past_costs = gradient_descent(X_train_4, Y_train_4, theta, iterations, alpha)\n",
    "    #theta = past_thetas[-1]"
   ]
  },
  {
   "cell_type": "code",
   "execution_count": 107,
   "metadata": {},
   "outputs": [],
   "source": [
    "Y_train[Y_train>=0.5] = 1\n",
    "Y_train[Y_train<0.5] = 0\n",
    "Y_val[Y_val>=0.5] = 1\n",
    "Y_val[Y_val<0.5] = 0"
   ]
  },
  {
   "cell_type": "code",
   "execution_count": 108,
   "metadata": {},
   "outputs": [],
   "source": [
    "from sklearn.linear_model import LogisticRegression\n",
    "clf_me = logistic_regression()\n",
    "clf_sk = LogisticRegression()"
   ]
  },
  {
   "cell_type": "code",
   "execution_count": 109,
   "metadata": {},
   "outputs": [
    {
     "name": "stderr",
     "output_type": "stream",
     "text": [
      "/home/neil/.local/lib/python3.6/site-packages/sklearn/linear_model/logistic.py:432: FutureWarning: Default solver will be changed to 'lbfgs' in 0.22. Specify a solver to silence this warning.\n",
      "  FutureWarning)\n"
     ]
    },
    {
     "data": {
      "text/plain": [
       "LogisticRegression(C=1.0, class_weight=None, dual=False, fit_intercept=True,\n",
       "          intercept_scaling=1, max_iter=100, multi_class='warn',\n",
       "          n_jobs=None, penalty='l2', random_state=None, solver='warn',\n",
       "          tol=0.0001, verbose=0, warm_start=False)"
      ]
     },
     "execution_count": 109,
     "metadata": {},
     "output_type": "execute_result"
    }
   ],
   "source": [
    "past_thetas, past_costs = clf_me.fit(X_train, Y_train)\n",
    "clf_sk.fit(X_train, Y_train)"
   ]
  },
  {
   "cell_type": "code",
   "execution_count": 110,
   "metadata": {},
   "outputs": [
    {
     "data": {
      "image/png": "[encoded data removed]",
      "text/plain": [
       "<Figure size 432x288 with 1 Axes>"
      ]
     },
     "metadata": {
      "needs_background": "light"
     },
     "output_type": "display_data"
    }
   ],
   "source": [
    "plt.title('Cost Function J')\n",
    "plt.xlabel('No. of iterations')\n",
    "plt.ylabel('Cost')\n",
    "plt.plot(past_costs)\n",
    "plt.show()"
   ]
  },
  {
   "cell_type": "code",
   "execution_count": 111,
   "metadata": {},
   "outputs": [],
   "source": [
    "Y_pred_me = clf_me.predict(X_val)\n",
    "acc_me = accuracy_score(Y_pred_me, Y_val)\n",
    "res = precision_recall_fscore_support(Y_pred_me, Y_val, average = 'binary')\n",
    "pre_me, re_me, f1_me = res[0], res[1], res[2]\n",
    "Y_pred_sk = clf_sk.predict(X_val)\n",
    "acc_sk = accuracy_score(Y_pred_sk, Y_val)\n",
    "res = precision_recall_fscore_support(Y_pred_sk, Y_val, average = 'binary')\n",
    "pre_sk, re_sk, f1_sk = res[0], res[1], res[2]"
   ]
  },
  {
   "cell_type": "code",
   "execution_count": 112,
   "metadata": {},
   "outputs": [
    {
     "name": "stdout",
     "output_type": "stream",
     "text": [
      "                         My Classifier                   Sklearn Classifier\n",
      "accuracy score:        0.9111111111111111                0.9111111111111111\n",
      "precision score:       1.0                0.9876543209876543\n",
      "recall score:          0.9101123595505618                0.9195402298850575\n",
      "f1 score:              0.9529411764705883                0.9523809523809523\n"
     ]
    }
   ],
   "source": [
    "print(\"                         My Classifier                   Sklearn Classifier\")\n",
    "print(\"accuracy score:        {0}                {1}\".format(acc_me, acc_sk))\n",
    "print(\"precision score:       {0}                {1}\".format(pre_me, pre_sk))\n",
    "print(\"recall score:          {0}                {1}\".format(re_me, re_sk))\n",
    "print(\"f1 score:              {0}                {1}\".format(f1_me, f1_sk))"
   ]
  },
  {
   "cell_type": "markdown",
   "metadata": {},
   "source": [
    "#### Question 2:\n",
    "Compare the performances of logistic regression model with KNN model on the\n",
    "Admission dataset"
   ]
  },
  {
   "cell_type": "code",
   "execution_count": 113,
   "metadata": {},
   "outputs": [],
   "source": [
    "clf_lg = logistic_regression()\n",
    "clf_knn = knearestneighbors()"
   ]
  },
  {
   "cell_type": "code",
   "execution_count": 114,
   "metadata": {},
   "outputs": [
    {
     "name": "stderr",
     "output_type": "stream",
     "text": [
      "/home/neil/.local/lib/python3.6/site-packages/sklearn/metrics/classification.py:1145: UndefinedMetricWarning: Recall and F-score are ill-defined and being set to 0.0 in labels with no true samples.\n",
      "  'recall', 'true', average, warn_for)\n"
     ]
    }
   ],
   "source": [
    "acc_knn, pre_knn, re_knn, f1_knn = k_fold_cross_val(X_train, Y_train, clf_knn)\n",
    "clf_lg.fit(X_train, Y_train)\n",
    "Y_pred_lg = clf_lg.predict(X_val)\n",
    "acc_lg = accuracy_score(Y_pred_lg, Y_val)\n",
    "res = precision_recall_fscore_support(Y_pred_lg, Y_val, average = 'binary')\n",
    "pre_lg, re_lg, f1_lg = res[0], res[1], res[2]"
   ]
  },
  {
   "cell_type": "code",
   "execution_count": 115,
   "metadata": {},
   "outputs": [
    {
     "name": "stdout",
     "output_type": "stream",
     "text": [
      "                     logistic regression Classifier      KNN Classifier\n",
      "accuracy score:        0.9                0.9194444444444445\n",
      "precision score:       1.0                0.9281434884559886\n",
      "recall score:          0.9                0.9194444444444445\n",
      "f1 score:              0.9473684210526316                0.9177305696349325\n"
     ]
    }
   ],
   "source": [
    "print(\"                     logistic regression Classifier      KNN Classifier\")\n",
    "print(\"accuracy score:        {0}                {1}\".format(acc_lg, acc_knn))\n",
    "print(\"precision score:       {0}                {1}\".format(pre_lg, pre_knn))\n",
    "print(\"recall score:          {0}                {1}\".format(re_lg, re_knn))\n",
    "print(\"f1 score:              {0}                {1}\".format(f1_lg, f1_knn))"
   ]
  },
  {
   "cell_type": "markdown",
   "metadata": {},
   "source": [
    "#### Question 3:\n",
    "Plot a graph explaining the co-relation between threshold value vs precision and\n",
    "recall. Report the criteria one should use while deciding the threshold value. Explain the reason behind your choice of threshold in your model"
   ]
  },
  {
   "cell_type": "code",
   "execution_count": 116,
   "metadata": {},
   "outputs": [
    {
     "name": "stderr",
     "output_type": "stream",
     "text": [
      "/home/neil/.local/lib/python3.6/site-packages/sklearn/metrics/classification.py:1145: UndefinedMetricWarning: Recall and F-score are ill-defined and being set to 0.0 due to no true samples.\n",
      "  'recall', 'true', average, warn_for)\n"
     ]
    }
   ],
   "source": [
    "acc = []\n",
    "pre = []\n",
    "rec = []\n",
    "f1 = []\n",
    "for i in  np.linspace(0,1,11):\n",
    "    clf_lg = logistic_regression(threshold = i)\n",
    "    clf_lg.fit(X_train, Y_train)\n",
    "    Y_pred_lg = clf_lg.predict(X_val)\n",
    "    acc_lg = accuracy_score(Y_pred_lg, Y_val)\n",
    "    res = precision_recall_fscore_support(Y_pred_lg, Y_val, average = 'binary')\n",
    "    pre_lg, re_lg, f1_lg = res[0], res[1], res[2]\n",
    "    #print(i, acc_lg, pre_lg, re_lg, f1_lg)\n",
    "    acc.append((i,acc_lg))\n",
    "    pre.append((i,pre_lg))\n",
    "    rec.append((i,re_lg))\n",
    "    f1.append((i,f1_lg))"
   ]
  },
  {
   "cell_type": "code",
   "execution_count": 117,
   "metadata": {},
   "outputs": [
    {
     "data": {
      "image/png": "[encoded data removed]",
      "text/plain": [
       "<Figure size 432x288 with 1 Axes>"
      ]
     },
     "metadata": {
      "needs_background": "light"
     },
     "output_type": "display_data"
    }
   ],
   "source": [
    "X_lst = []\n",
    "Y_lst = []\n",
    "for i in range(len(acc)):\n",
    "    X_lst.append(acc[i][0])\n",
    "    Y_lst.append(acc[i][1])\n",
    "plt.plot(X_lst,Y_lst)\n",
    "plt.xlabel('threshold')\n",
    "plt.ylabel('accuracy')\n",
    "plt.show()"
   ]
  },
  {
   "cell_type": "code",
   "execution_count": 118,
   "metadata": {},
   "outputs": [
    {
     "data": {
      "image/png": "[encoded data removed]",
      "text/plain": [
       "<Figure size 432x288 with 1 Axes>"
      ]
     },
     "metadata": {
      "needs_background": "light"
     },
     "output_type": "display_data"
    }
   ],
   "source": [
    "X_lst = []\n",
    "Y_lst = []\n",
    "for i in range(len(acc)):\n",
    "    X_lst.append(pre[i][0])\n",
    "    Y_lst.append(pre[i][1])\n",
    "plt.plot(X_lst,Y_lst)\n",
    "plt.xlabel('threshold')\n",
    "plt.ylabel('precall')\n",
    "plt.show()"
   ]
  },
  {
   "cell_type": "code",
   "execution_count": 119,
   "metadata": {},
   "outputs": [
    {
     "data": {
      "image/png": "[encoded data removed]",
      "text/plain": [
       "<Figure size 432x288 with 1 Axes>"
      ]
     },
     "metadata": {
      "needs_background": "light"
     },
     "output_type": "display_data"
    }
   ],
   "source": [
    "X_lst = []\n",
    "Y_lst = []\n",
    "for i in range(len(acc)):\n",
    "    X_lst.append(rec[i][0])\n",
    "    Y_lst.append(rec[i][1])\n",
    "plt.plot(X_lst,Y_lst)\n",
    "plt.xlabel('threshold')\n",
    "plt.ylabel('recall')\n",
    "plt.show()"
   ]
  },
  {
   "cell_type": "code",
   "execution_count": 120,
   "metadata": {},
   "outputs": [
    {
     "data": {
      "image/png": "[encoded data removed]",
      "text/plain": [
       "<Figure size 432x288 with 1 Axes>"
      ]
     },
     "metadata": {
      "needs_background": "light"
     },
     "output_type": "display_data"
    }
   ],
   "source": [
    "X_lst = []\n",
    "Y_lst = []\n",
    "for i in range(len(acc)):\n",
    "    X_lst.append(f1[i][0])\n",
    "    Y_lst.append(f1[i][1])\n",
    "plt.plot(X_lst,Y_lst)\n",
    "plt.xlabel('threshold')\n",
    "plt.ylabel('f1')\n",
    "plt.show()"
   ]
  },
  {
   "cell_type": "markdown",
   "metadata": {},
   "source": [
    "## Part 5:\n",
    "Implement logistic regression using One vs All and One vs One approaches.\n",
    "Use the following dataset http://preon.iiit.ac.in/~sanjoy_chowdhury/wine-quality.\n",
    "zip for completing the task. Report your observations and accuracy of the model."
   ]
  },
  {
   "cell_type": "code",
   "execution_count": 379,
   "metadata": {},
   "outputs": [],
   "source": [
    "train_df = pd.read_csv('wine-quality/data.csv', delimiter=';')"
   ]
  },
  {
   "cell_type": "code",
   "execution_count": 380,
   "metadata": {},
   "outputs": [],
   "source": [
    "from sklearn.model_selection import train_test_split\n",
    "X_train, X_val, Y_train, Y_val = train_test_split(train_df.drop('quality', axis=1),train_df['quality'], test_size=0.2,shuffle=True)"
   ]
  },
  {
   "cell_type": "code",
   "execution_count": 381,
   "metadata": {},
   "outputs": [],
   "source": [
    "class logistic_regressionOVA:\n",
    "    def __init__(self, alpha=0.1, iteration=1000, classes=2, threshold=0.5):\n",
    "        self.alpha = alpha \n",
    "        self.iterations = iteration\n",
    "        self.classes = classes\n",
    "        self.mean = 0\n",
    "        self.std = 0\n",
    "        self.theta = []\n",
    "        self.threshold = threshold\n",
    "        self.theta_c = []\n",
    "    def fit(self,x_tr, y_tr):\n",
    "        m = x_tr.size\n",
    "        self.mean = x_tr.mean()\n",
    "        self.std = x_tr.std()\n",
    "        x_tr = (x_tr - self.mean)/self.std\n",
    "        for c in range(self.classes):\n",
    "            y_tr_c = (y_tr==c).astype(int)\n",
    "            theta = np.random.rand(len(x_tr.iloc[0])+1)\n",
    "            past_costs = []\n",
    "            past_thetas = [theta]\n",
    "            x = np.c_[np.ones(len(x_tr.iloc[:,0])),x_tr]\n",
    "            for i in range(self.iterations):\n",
    "                prediction = self.sigmoid(np.dot(x, theta.T))\n",
    "                #prediction[prediction>=0.5] = 1\n",
    "                #prediction[prediction<0.5] = 0\n",
    "                #print(len(prediction) == len(x_tr))\n",
    "                error = prediction - y_tr_c\n",
    "                #print(error)\n",
    "                cost = - 1/(m) * (np.dot(y_tr.T, error) + np.dot(1-y_tr,1-error))\n",
    "                past_costs.append(cost)\n",
    "                theta = theta - (self.alpha * (1/m) * np.dot(x.T, error))\n",
    "                past_thetas.append(theta)\n",
    "            self.theta_c.append(theta)\n",
    "        #print(self.theta_c)\n",
    "        return past_thetas, past_costs\n",
    "    def predict(self, x_val):\n",
    "        ans = []\n",
    "        x_val = (x_val - self.mean)/self.std\n",
    "        #print(self.theta_c)\n",
    "        for c in range(self.classes):\n",
    "            x = np.c_[np.ones(len(x_val.iloc[:,0])),x_val]\n",
    "            #print(self.theta_c[c])\n",
    "            #print()\n",
    "            prediction = self.sigmoid(np.dot(x, self.theta_c[c].T))\n",
    "            #print(prediction.shape)\n",
    "            ans.append(prediction)\n",
    "            #print(prediction.shape)\n",
    "        ans = np.array(ans).T\n",
    "        #print(ans)\n",
    "        return np.argmax(ans,axis=1)\n",
    "    def sigmoid(self,x):\n",
    "        return (np.exp(x)/(1+np.exp(x)))\n",
    "    #past_thetas, past_costs = gradient_descent(X_train_4, Y_train_4, theta, iterations, alpha)\n",
    "    #theta = past_thetas[-1]"
   ]
  },
  {
   "cell_type": "code",
   "execution_count": 382,
   "metadata": {},
   "outputs": [],
   "source": [
    "clf_me = logistic_regressionOVA(classes = 10)"
   ]
  },
  {
   "cell_type": "code",
   "execution_count": 383,
   "metadata": {},
   "outputs": [],
   "source": [
    "_,_ = clf_me.fit(X_train,Y_train)"
   ]
  },
  {
   "cell_type": "code",
   "execution_count": 384,
   "metadata": {},
   "outputs": [
    {
     "name": "stderr",
     "output_type": "stream",
     "text": [
      "/home/neil/.local/lib/python3.6/site-packages/sklearn/linear_model/logistic.py:757: ConvergenceWarning: lbfgs failed to converge. Increase the number of iterations.\n",
      "  \"of iterations.\", ConvergenceWarning)\n"
     ]
    }
   ],
   "source": [
    "from sklearn.linear_model import LogisticRegression\n",
    "from sklearn.multiclass import OneVsRestClassifier\n",
    "clf_sk = OneVsRestClassifier(LogisticRegression(random_state=0, solver = 'lbfgs', max_iter=1000)).fit(X_train, Y_train)"
   ]
  },
  {
   "cell_type": "code",
   "execution_count": 385,
   "metadata": {},
   "outputs": [],
   "source": [
    "y_pred_me = clf_me.predict(X_val)\n",
    "acc_me = accuracy_score(y_pred_me,Y_val)"
   ]
  },
  {
   "cell_type": "code",
   "execution_count": 386,
   "metadata": {},
   "outputs": [],
   "source": [
    "y_pred_sk = clf_sk.predict(X_val)\n",
    "acc_sk = accuracy_score(y_pred_sk,Y_val)"
   ]
  },
  {
   "cell_type": "code",
   "execution_count": 387,
   "metadata": {},
   "outputs": [
    {
     "name": "stdout",
     "output_type": "stream",
     "text": [
      "                            My One vs All Classifier         Sklearn One vs All Classifier\n",
      "accuracy score:               0.5340136054421769                0.536281179138322\n"
     ]
    }
   ],
   "source": [
    "print(\"                            My One vs All Classifier         Sklearn One vs All Classifier\")\n",
    "print(\"accuracy score:               {0}                {1}\".format(acc_me, acc_sk))"
   ]
  },
  {
   "cell_type": "code",
   "execution_count": 460,
   "metadata": {},
   "outputs": [],
   "source": [
    "train_df = pd.read_csv('wine-quality/data.csv', delimiter=';')"
   ]
  },
  {
   "cell_type": "code",
   "execution_count": 461,
   "metadata": {},
   "outputs": [],
   "source": [
    "from sklearn.model_selection import train_test_split\n",
    "X_train, X_val, Y_train, Y_val = train_test_split(train_df.drop('quality', axis=1),train_df['quality'], test_size=0.2,shuffle=True)"
   ]
  },
  {
   "cell_type": "code",
   "execution_count": 462,
   "metadata": {},
   "outputs": [],
   "source": [
    "# One Vs One with all classes available in dataset i.e. 3,4,5,6,7,8,9\n",
    "class logistic_regressionOVO:\n",
    "    def __init__(self, alpha=0.1, iteration=10000, classes=2, threshold=0.5):\n",
    "        self.alpha = alpha \n",
    "        self.iterations = iteration\n",
    "        self.classes = classes\n",
    "        self.mean = 0\n",
    "        self.std = 0\n",
    "        self.theta = []\n",
    "        self.threshold = threshold\n",
    "        self.theta_c = {}\n",
    "        self.mp = {}\n",
    "    def fit(self,x_tr, y_tr):\n",
    "        m = x_tr.size\n",
    "        self.mean = x_tr.mean()\n",
    "        self.std = x_tr.std()\n",
    "        x_tr = (x_tr - self.mean)/self.std\n",
    "        for i,x in zip(range(len(y_tr.unique().tolist())),y_tr.unique().tolist()):\n",
    "            self.mp[i]=x\n",
    "        self.classes = len(y_tr.unique().tolist())\n",
    "        for c1 in range(self.classes):\n",
    "            for c2 in range(c1+1,self.classes):\n",
    "                #print([y_tr.unique().tolist()[c1],y_tr.unique().tolist()[c2]])\n",
    "                x_tr_c = x_tr[list(x_tr.columns.values)][y_tr.isin([y_tr.unique().tolist()[c1],y_tr.unique().tolist()[c2]])]\n",
    "                y_tr_c12 = y_tr[:][y_tr.isin([y_tr.unique().tolist()[c1],y_tr.unique().tolist()[c2]])]\n",
    "                y_tr_c = (y_tr_c12==y_tr.unique().tolist()[c1]).astype(int)\n",
    "                #print(y_tr_c)\n",
    "                theta = np.random.rand(len(x_tr.iloc[0])+1)\n",
    "                past_costs = []\n",
    "                past_thetas = [theta]\n",
    "                x = np.c_[np.ones(len(x_tr_c.iloc[:,0])),x_tr_c]\n",
    "                if len(x_tr_c)>0:\n",
    "                    for i in range(self.iterations):\n",
    "                        prediction = self.sigmoid(np.dot(x, theta.T))\n",
    "                        #prediction[prediction>=0.5] = 1\n",
    "                        #prediction[prediction<0.5] = 0\n",
    "                        #print(len(prediction) == len(x_tr))\n",
    "                        error = prediction - y_tr_c\n",
    "                        #print(error)\n",
    "                        cost = -1/(m) * (np.dot(y_tr_c.T, error) + np.dot(1-y_tr_c,1-error))\n",
    "                        past_costs.append(cost)\n",
    "                        theta = theta - (self.alpha * (1/m) * np.dot(x.T, error))\n",
    "                        past_thetas.append(theta)\n",
    "                self.theta_c[(c1,c2)] = theta\n",
    "        #print(self.theta_c)\n",
    "        #print()\n",
    "        #print(self.mp)\n",
    "        return past_thetas, past_costs\n",
    "    def predict(self, x_val):\n",
    "        ans = []\n",
    "        #print(self.theta_c)\n",
    "        x_val = (x_val - self.mean)/self.std\n",
    "        for c1 in range(self.classes):\n",
    "            for c2 in range(c1+1,self.classes):\n",
    "                x = np.c_[np.ones(len(x_val.iloc[:,0])),x_val]\n",
    "                #print(self.theta_c[(c1,c2)])\n",
    "                #print()\n",
    "                prediction = np.dot(x, self.theta_c[(c1,c2)].T)\n",
    "                #print(prediction.shape)\n",
    "                #ans.append(prediction)\n",
    "                #print(prediction.shape)\n",
    "                prediction[prediction>=self.threshold] = self.mp[c1]\n",
    "                prediction[prediction<self.threshold] = self.mp[c2]\n",
    "                #print(prediction)\n",
    "                ans.append(prediction)\n",
    "                #print(ans)\n",
    "        ans = np.array(ans).T\n",
    "        pred = []\n",
    "        for i in range(len(ans)):\n",
    "            pred.append(Counter(ans[i]).most_common(1)[0][0])\n",
    "        return pred\n",
    "    def sigmoid(self,x):\n",
    "        return (np.exp(x)/(1+np.exp(x)))\n",
    "    #past_thetas, past_costs = gradient_descent(X_train_4, Y_train_4, theta, iterations, alpha)\n",
    "    #theta = past_thetas[-1]"
   ]
  },
  {
   "cell_type": "code",
   "execution_count": 463,
   "metadata": {},
   "outputs": [],
   "source": [
    "clf_me = logistic_regressionOVO(classes = 10)"
   ]
  },
  {
   "cell_type": "code",
   "execution_count": 464,
   "metadata": {},
   "outputs": [],
   "source": [
    "_,_ = clf_me.fit(X_train,Y_train)"
   ]
  },
  {
   "cell_type": "code",
   "execution_count": 465,
   "metadata": {},
   "outputs": [
    {
     "name": "stderr",
     "output_type": "stream",
     "text": [
      "/home/neil/.local/lib/python3.6/site-packages/sklearn/linear_model/logistic.py:757: ConvergenceWarning: lbfgs failed to converge. Increase the number of iterations.\n",
      "  \"of iterations.\", ConvergenceWarning)\n"
     ]
    }
   ],
   "source": [
    "from sklearn.linear_model import LogisticRegression\n",
    "from sklearn.multiclass import OneVsOneClassifier\n",
    "clf_sk = OneVsOneClassifier(LogisticRegression(random_state=0, solver='lbfgs', max_iter=1000)).fit(X_train, Y_train)"
   ]
  },
  {
   "cell_type": "code",
   "execution_count": 466,
   "metadata": {},
   "outputs": [],
   "source": [
    "y_pred_me = clf_me.predict(X_val)\n",
    "acc_me = accuracy_score(y_pred_me,Y_val)"
   ]
  },
  {
   "cell_type": "code",
   "execution_count": 467,
   "metadata": {},
   "outputs": [],
   "source": [
    "y_pred_sk = clf_sk.predict(X_val)\n",
    "acc_sk = accuracy_score(y_pred_sk,Y_val)"
   ]
  },
  {
   "cell_type": "code",
   "execution_count": 468,
   "metadata": {},
   "outputs": [
    {
     "name": "stdout",
     "output_type": "stream",
     "text": [
      "                            My One vs One Classifier         Sklearn One vs One Classifier\n",
      "accuracy score:               0.4954648526077097                0.5113378684807256\n"
     ]
    }
   ],
   "source": [
    "print(\"                            My One vs One Classifier         Sklearn One vs One Classifier\")\n",
    "print(\"accuracy score:               {0}                {1}\".format(acc_me, acc_sk))"
   ]
  },
  {
   "cell_type": "code",
   "execution_count": 476,
   "metadata": {},
   "outputs": [],
   "source": [
    "train_df = pd.read_csv('wine-quality/data.csv', delimiter=';')"
   ]
  },
  {
   "cell_type": "code",
   "execution_count": 477,
   "metadata": {},
   "outputs": [],
   "source": [
    "from sklearn.model_selection import train_test_split\n",
    "X_train, X_val, Y_train, Y_val = train_test_split(train_df.drop('quality', axis=1),train_df['quality'], test_size=0.2,shuffle=True)"
   ]
  },
  {
   "cell_type": "code",
   "execution_count": 484,
   "metadata": {},
   "outputs": [],
   "source": [
    "# One Vs One with all possible classes 0-10\n",
    "class logistic_regressionOVO:\n",
    "    def __init__(self, alpha=0.1, iteration=10000, classes=2, threshold=0.5):\n",
    "        self.alpha = alpha \n",
    "        self.iterations = iteration\n",
    "        self.classes = classes\n",
    "        self.mean = 0\n",
    "        self.std = 0\n",
    "        self.theta = []\n",
    "        self.threshold = threshold\n",
    "        self.theta_c = {}\n",
    "        self.mp = {}\n",
    "    def fit(self,x_tr, y_tr):\n",
    "        m = x_tr.size\n",
    "        self.mean = x_tr.mean()\n",
    "        self.std = x_tr.std()\n",
    "        x_tr = (x_tr - self.mean)/self.std\n",
    "        for i,x in zip(range(len(y_tr.unique().tolist())),y_tr.unique().tolist()):\n",
    "            self.mp[i]=x\n",
    "        #self.classes = len(y_tr.unique().tolist())\n",
    "        for c1 in range(self.classes):\n",
    "            for c2 in range(c1+1,self.classes):\n",
    "                #print([y_tr.unique().tolist()[c1],y_tr.unique().tolist()[c2]])\n",
    "                x_tr_c = x_tr[list(x_tr.columns.values)][y_tr.isin([c1,c2])]\n",
    "                y_tr_c12 = y_tr[:][y_tr.isin([c1,c2])]\n",
    "                y_tr_c = (y_tr_c12==c1).astype(int)\n",
    "                #print(y_tr_c)\n",
    "                theta = np.random.rand(len(x_tr.iloc[0])+1)\n",
    "                past_costs = []\n",
    "                past_thetas = [theta]\n",
    "                x = np.c_[np.ones(len(x_tr_c.iloc[:,0])),x_tr_c]\n",
    "                if len(x_tr_c)>0:\n",
    "                    for i in range(self.iterations):\n",
    "                        prediction = self.sigmoid(np.dot(x, theta.T))\n",
    "                        #prediction[prediction>=0.5] = 1\n",
    "                        #prediction[prediction<0.5] = 0\n",
    "                        #print(len(prediction) == len(x_tr))\n",
    "                        error = prediction - y_tr_c\n",
    "                        #print(error)\n",
    "                        cost = - 1/(m) * (np.dot(y_tr_c.T, error) + np.dot(1-y_tr_c,1-error))\n",
    "                        past_costs.append(cost)\n",
    "                        theta = theta - (self.alpha * (1/m) * np.dot(x.T, error))\n",
    "                        past_thetas.append(theta)\n",
    "                self.theta_c[(c1,c2)] = theta\n",
    "        #print(self.theta_c)\n",
    "        #print()\n",
    "        #print(self.mp)\n",
    "        return past_thetas, past_costs\n",
    "    def predict(self, x_val):\n",
    "        ans = []\n",
    "        #print(self.theta_c)\n",
    "        x_val = (x_val - self.mean)/self.std\n",
    "        for c1 in range(self.classes):\n",
    "            for c2 in range(c1+1,self.classes):\n",
    "                x = np.c_[np.ones(len(x_val.iloc[:,0])),x_val]\n",
    "                #print(self.theta_c[(c1,c2)])\n",
    "                #print()\n",
    "                prediction = np.dot(x, self.theta_c[(c1,c2)].T)\n",
    "                #print(prediction.shape)\n",
    "                #ans.append(prediction)\n",
    "                #print(prediction.shape)\n",
    "                prediction[prediction>=self.threshold] = c1\n",
    "                prediction[prediction<self.threshold] = c2\n",
    "                #print(prediction)\n",
    "                ans.append(prediction)\n",
    "                #print(ans)\n",
    "        ans = np.array(ans).T\n",
    "        pred = []\n",
    "        for i in range(len(ans)):\n",
    "            pred.append(Counter(ans[i]).most_common(1)[0][0])\n",
    "        #print(pred)\n",
    "        return pred\n",
    "    def sigmoid(self,x):\n",
    "        return (np.exp(x)/(1+np.exp(x)))\n",
    "    #past_thetas, past_costs = gradient_descent(X_train_4, Y_train_4, theta, iterations, alpha)\n",
    "    #theta = past_thetas[-1]"
   ]
  },
  {
   "cell_type": "code",
   "execution_count": 485,
   "metadata": {},
   "outputs": [],
   "source": [
    "clf_me = logistic_regressionOVO(classes = 10)"
   ]
  },
  {
   "cell_type": "code",
   "execution_count": 486,
   "metadata": {},
   "outputs": [],
   "source": [
    "from sklearn.linear_model import LogisticRegression\n",
    "from sklearn.multiclass import OneVsOneClassifier\n",
    "clf_sk = OneVsOneClassifier(LogisticRegression(random_state=0, solver='lbfgs', max_iter=1000)).fit(X_train, Y_train)"
   ]
  },
  {
   "cell_type": "code",
   "execution_count": 487,
   "metadata": {},
   "outputs": [],
   "source": [
    "_,_ = clf_me.fit(X_train,Y_train)"
   ]
  },
  {
   "cell_type": "code",
   "execution_count": 488,
   "metadata": {},
   "outputs": [],
   "source": [
    "np.set_printoptions(threshold=np.nan)\n",
    "y_pred_me = clf_me.predict(X_val)\n",
    "acc_me = accuracy_score(y_pred_me,Y_val)"
   ]
  },
  {
   "cell_type": "code",
   "execution_count": 489,
   "metadata": {},
   "outputs": [],
   "source": [
    "y_pred_sk = clf_sk.predict(X_val)\n",
    "acc_sk = accuracy_score(y_pred_sk,Y_val)"
   ]
  },
  {
   "cell_type": "code",
   "execution_count": 490,
   "metadata": {},
   "outputs": [
    {
     "name": "stdout",
     "output_type": "stream",
     "text": [
      "                            My One vs One Classifier         Sklearn One vs One Classifier\n",
      "accuracy score:               0.5136054421768708                0.5294784580498866\n"
     ]
    }
   ],
   "source": [
    "print(\"                            My One vs One Classifier         Sklearn One vs One Classifier\")\n",
    "print(\"accuracy score:               {0}                {1}\".format(acc_me, acc_sk))"
   ]
  },
  {
   "cell_type": "code",
   "execution_count": null,
   "metadata": {},
   "outputs": [],
   "source": []
  }
 ],
 "metadata": {
  "kernelspec": {
   "display_name": "Python 3",
   "language": "python",
   "name": "python3"
  },
  "language_info": {
   "codemirror_mode": {
    "name": "ipython",
    "version": 3
   },
   "file_extension": ".py",
   "mimetype": "text/x-python",
   "name": "python",
   "nbconvert_exporter": "python",
   "pygments_lexer": "ipython3",
   "version": "3.6.7"
  }
 },
 "nbformat": 4,
 "nbformat_minor": 2
}
