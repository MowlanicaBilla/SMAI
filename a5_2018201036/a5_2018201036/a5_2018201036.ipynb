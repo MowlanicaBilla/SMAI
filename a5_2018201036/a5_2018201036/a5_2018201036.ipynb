{
 "cells": [
  {
   "cell_type": "code",
   "execution_count": 4,
   "metadata": {},
   "outputs": [],
   "source": [
    "import numpy as np\n",
    "import pandas as pd\n",
    "import random\n",
    "import pickle\n",
    "import matplotlib.pyplot as plt\n",
    "from sklearn.metrics import accuracy_score"
   ]
  },
  {
   "cell_type": "markdown",
   "metadata": {},
   "source": [
    "## Question 1\n",
    "Train and validate your own n-layer Neural Network on the Apparel dataset\n",
    "to predict the class label of a given apparel. You are free to choose the hyper-parameters,\n",
    "training strategy to handle large number of training data (Hint: Batch Size) architecture number of hidden layers, number of nodes in each hidden layer etc."
   ]
  },
  {
   "cell_type": "code",
   "execution_count": 5,
   "metadata": {},
   "outputs": [],
   "source": [
    "train_df = pd.read_csv('Apparel/apparel-trainval.csv')"
   ]
  },
  {
   "cell_type": "code",
   "execution_count": 3,
   "metadata": {},
   "outputs": [],
   "source": [
    "#train_df.iloc[:,1:] = (train_df.iloc[:,1:] - train_df.iloc[:,1:].mean())/train_df.iloc[:,1:].std()"
   ]
  },
  {
   "cell_type": "code",
   "execution_count": 118,
   "metadata": {},
   "outputs": [],
   "source": [
    "class NeuralNetwork:\n",
    "    def __init__(self, layer_dims, learning_rate = 0.1, itr = 100, batch_size=512, activation = 'relu', lamda=0.1):\n",
    "        self.number_of_layers = len(layer_dims)\n",
    "        self.layer_dims = layer_dims\n",
    "        self.learning_rate = learning_rate\n",
    "        self.itr = itr\n",
    "        self.batch_size = batch_size\n",
    "        self.parameters = {}\n",
    "        self.activation = activation\n",
    "        self.lamda = lamda\n",
    "        #self.grads = {}\n",
    "    def initialize_parameters(self):\n",
    "        for l in range(1, self.number_of_layers):\n",
    "            self.parameters['W' + str(l)] = np.random.randn(self.layer_dims[l], self.layer_dims[l-1])*np.sqrt(1/self.layer_dims[l-1])\n",
    "            self.parameters['b' + str(l)] = np.zeros((self.layer_dims[l],1))\n",
    "    def sigmoid(self, x):\n",
    "        return np.exp(x)/(1+np.exp(x)), x\n",
    "    def sigmoid_backward(self, dA, Z):\n",
    "        q,_ = self.sigmoid(Z)\n",
    "        #print(q.shape)\n",
    "        return dA*(q*(1-q))\n",
    "    def relu(self, x):\n",
    "        return np.maximum(x, 0), x\n",
    "    def relu_backward(self, dA, Z):\n",
    "        q = Z>=0.0\n",
    "        #print(np.unique(q))\n",
    "        return dA*q.astype(np.int)\n",
    "    def softmax(self, x):\n",
    "        x = x - p.max(x)\n",
    "        num = np.exp(x)\n",
    "        den = np.sum(num)\n",
    "        return np.divide(num, den), x\n",
    "    def softmax_backward(self, dA, Z):\n",
    "        q,_ = self.softmax(Z)\n",
    "        #print(q)\n",
    "        return dA*(q*(1-q))\n",
    "    def tanh(self, x):\n",
    "        return np.tanh(x), x\n",
    "    def tanh_backward(self, dA, x):\n",
    "        q,_ = self.tanh(x)\n",
    "        q = 1- np.square(q)\n",
    "        #q = np.squeeze(q, axis = (1,))\n",
    "        #print(q)\n",
    "        #print(q.shape, dA.shape)\n",
    "        return dA*q\n",
    "    def linear_forward(self, A, W, b):\n",
    "        #print(b.shape, W.shape, A.shape)\n",
    "        Z = np.dot(W,A) + b\n",
    "        cache = (A, W, b)\n",
    "        return Z, cache\n",
    "    def linear_activation_forward(self, A_prev, W, b, activation):\n",
    "        if activation == 'sigmoid':\n",
    "            Z, linear_cache = self.linear_forward(A_prev, W, b)\n",
    "            A, activation_cache = self.sigmoid(Z)\n",
    "        elif activation == 'relu':\n",
    "            Z, linear_cache = self.linear_forward(A_prev, W, b)\n",
    "            A, activation_cache = self.relu(Z)\n",
    "        elif activation == 'tanh':\n",
    "            Z, linear_cache = self.linear_forward(A_prev, W, b)\n",
    "            A, activation_cache = self.tanh(Z)\n",
    "        elif activation == 'softmax':\n",
    "            Z, linear_cache = self.linear_forward(A_prev, W, b)\n",
    "            A, activation_cache = self.softmax(Z)\n",
    "        cache = (linear_cache, activation_cache)\n",
    "        return A, cache\n",
    "    def forward_propagation(self, X):\n",
    "        caches = []\n",
    "        A = X\n",
    "        L = len(self.parameters)//2\n",
    "        for l in range(1, L):\n",
    "            A_prev = A\n",
    "            A, cache = self.linear_activation_forward(A_prev, self.parameters['W'+str(l)], self.parameters['b'+str(l)], self.activation)\n",
    "            caches.append(cache)\n",
    "            \n",
    "        AL, cache = self.linear_activation_forward(A, self.parameters['W'+str(L)], self.parameters['b'+str(L)], activation='sigmoid')\n",
    "        caches.append(cache)\n",
    "        return AL, caches\n",
    "    def linear_backward(self, dZ, cache):\n",
    "        A_prev, W, b = cache\n",
    "        m = A_prev.shape[1]\n",
    "        dW = np.dot(dZ, A_prev.T)/m\n",
    "        db = np.squeeze(np.sum(dZ, axis = 1, keepdims = True))/m\n",
    "        dA_prev = np.dot(W.T, dZ)\n",
    "        return dA_prev, dW, db\n",
    "    def linear_activation_backward(self, dA, cache, activation):\n",
    "        linear_cache, activation_cache = cache\n",
    "        \n",
    "        if activation == 'sigmoid':\n",
    "            dZ = self.sigmoid_backward(dA, activation_cache)\n",
    "        elif activation == 'relu':\n",
    "            dZ = self.relu_backward(dA, activation_cache)\n",
    "        elif activation == 'tanh':\n",
    "            dZ = self.tanh_backward(dA, activation_cache)\n",
    "        dA_prev, dW, db = self.linear_backward(dZ, linear_cache)\n",
    "            \n",
    "        return dA_prev, dW, db\n",
    "    def backward_propagation(self, AL, Y, caches):\n",
    "        grads = {}\n",
    "        L = len(caches)\n",
    "        m = AL.shape[1]\n",
    "        Y = Y.reshape(AL.shape)\n",
    "        dAL = -np.nan_to_num((np.nan_to_num(np.divide(Y, AL))) - np.nan_to_num(np.divide(1-Y, 1-AL)))\n",
    "        #print(dAL)\n",
    "        current_cache = caches[-1]\n",
    "        grads[\"dA\" + str(L)], grads[\"dW\" + str(L)], grads[\"db\" + str(L)] = self.linear_backward(\n",
    "                                                                                self.sigmoid_backward(dAL,current_cache[1]), \n",
    "                                                                                current_cache[0])\n",
    "        grads[\"db\" + str(L)] = grads[\"db\" + str(L)] .reshape(self.parameters[\"b\"+str(L)].shape)\n",
    "        for l in reversed(range(L-1)):\n",
    "            current_cache = caches[l]\n",
    "            dAL = grads[\"dA\"+str(l+2)]\n",
    "            dA_prev_temp, dW_temp, db_temp = self.linear_activation_backward(dAL, current_cache, self.activation)\n",
    "            grads[\"dA\" + str(l + 1)] = dA_prev_temp\n",
    "            grads[\"dW\" + str(l + 1)] = dW_temp\n",
    "            grads[\"db\" + str(l + 1)] = db_temp.reshape(self.parameters[\"b\"+str(l+1)].shape)\n",
    "\n",
    "        return grads\n",
    "        \n",
    "    def update_parameter(self, grads, m):\n",
    "        L = len(self.parameters)//2\n",
    "        for l in range(L):\n",
    "            self.parameters[\"W\" + str(l + 1)] = (1-(self.learning_rate*self.lamda)/m)*self.parameters[\"W\" + str(l + 1)] - self.learning_rate * grads[\"dW\" + str(l + 1)]\n",
    "            #print(grads['dW'+str(l+1)].shape)\n",
    "            self.parameters[\"b\" + str(l + 1)] = self.parameters[\"b\" + str(l + 1)] - self.learning_rate * grads[\"db\" + str(l + 1)]\n",
    "\n",
    "    def compute_cost(self, AL, Y,m, activation='sigmoid'):\n",
    "        #m = Y.shape[1]\n",
    "        if activation == 'sigmoid' or activation == 'tanh':\n",
    "            cost = -(1/m) *(np.sum(np.nan_to_num(np.multiply(Y, np.nan_to_num(np.log(AL))) + np.multiply(1 - Y, np.nan_to_num(np.log(1 - AL))))))\n",
    "        elif activation == 'softmax':\n",
    "            cost = -(1/m)* np.sum(np.multiply(Y, np.nan_to_num(np.log(AL))))\n",
    "            #print(cost)\n",
    "        cost = np.squeeze(cost)\n",
    "        return cost\n",
    "    def predict(self, X):\n",
    "        pred_res, _ = self.forward_propagation(X)\n",
    "        return pred_res\n",
    "    def SGD(self, training_data, print_cost = False):\n",
    "        costs = []\n",
    "        self.initialize_parameters()\n",
    "        \n",
    "        for i in range(1, self.itr+1):\n",
    "            #print(i)\n",
    "            random.shuffle(list(training_data))\n",
    "            m = len(training_data)\n",
    "            mini_batches = [training_data[k:k+self.batch_size] for k in range(0, m, self.batch_size)]\n",
    "            cost = 0\n",
    "            for mini_batch in mini_batches:\n",
    "                X = []\n",
    "                Y = []\n",
    "                for x,y in mini_batch:\n",
    "                    X.append(x)\n",
    "                    Y.append(y)\n",
    "                    #print(X.shape)\n",
    "                    #print(i)\n",
    "                X = np.asarray(X)\n",
    "                Y = np.asarray(Y)\n",
    "                #print(X.shape)\n",
    "                #print(Y.shape)\n",
    "                AL, caches = self.forward_propagation(X.T)\n",
    "                    #print(AL)\n",
    "                    #print(Y)\n",
    "                    #al = np.amax(AL, axis=0).T\n",
    "                    #print(AL.shape, Y.shape)\n",
    "                cost += self.compute_cost(AL, Y.T, len(training_data), activation='sigmoid')\n",
    "                \n",
    "                grads = self.backward_propagation(AL, Y.T, caches)\n",
    "                self.update_parameter(grads, len(training_data))\n",
    "            #cost /= len(mini_batches)\n",
    "            #print(cost)\n",
    "            if print_cost and i % 10 == 0:\n",
    "                print (\"Cost after iteration %i: %f\" % (i, cost))\n",
    "            if i % 10 == 0:\n",
    "                costs.append(cost)\n",
    "        if print_cost:    \n",
    "            plt.plot(np.squeeze(costs))\n",
    "            plt.ylabel('cost')\n",
    "            plt.xlabel('iterations (per tens)')\n",
    "            plt.title(\"Learning rate =\" + str(self.learning_rate))\n",
    "            plt.show()\n",
    "        else:\n",
    "            return costs[-1]\n",
    "    def save(self, filename=None):\n",
    "        if filename:\n",
    "            with open(filename+'.pickle', 'wb') as handle:\n",
    "                pickle.dump(self.parameters, handle, protocol=pickle.HIGHEST_PROTOCOL)\n",
    "    def load(self, filename=None):\n",
    "        if filename:\n",
    "            with open(filename+'.pickle', 'rb') as handle:\n",
    "                p = pickle.load(handle)\n",
    "            self.parameters = p"
   ]
  },
  {
   "cell_type": "code",
   "execution_count": 10,
   "metadata": {},
   "outputs": [],
   "source": [
    "import numpy as np\n",
    "from sklearn.model_selection import train_test_split\n",
    "X_train, X_test, y_train, y_test = train_test_split(train_df.iloc[:,1:]/255, train_df.iloc[:,0], test_size=0.33, random_state=42)"
   ]
  },
  {
   "cell_type": "code",
   "execution_count": 11,
   "metadata": {},
   "outputs": [],
   "source": [
    "def vectorized_results(j):\n",
    "    e = np.zeros((10,1))\n",
    "    e[j] = 1.0\n",
    "    return e"
   ]
  },
  {
   "cell_type": "code",
   "execution_count": 15,
   "metadata": {},
   "outputs": [],
   "source": [
    "y_train = np.asarray([vectorized_results(i) for i in y_train])\n",
    "y_train = np.squeeze(y_train, axis=2)\n",
    "training_data = list(zip(np.asarray(X_train), y_train))"
   ]
  },
  {
   "cell_type": "markdown",
   "metadata": {},
   "source": [
    "#### tanh as activation function in hidden layers"
   ]
  },
  {
   "cell_type": "code",
   "execution_count": 53,
   "metadata": {},
   "outputs": [],
   "source": [
    "net = NeuralNetwork(layer_dims = [X_train.shape[1], 100, 100, 10], itr = 300, activation = 'tanh')"
   ]
  },
  {
   "cell_type": "code",
   "execution_count": 54,
   "metadata": {},
   "outputs": [
    {
     "name": "stdout",
     "output_type": "stream",
     "text": [
      "Cost after iteration 10: 0.781526\n",
      "Cost after iteration 20: 0.676361\n",
      "Cost after iteration 30: 0.617385\n",
      "Cost after iteration 40: 0.574463\n",
      "Cost after iteration 50: 0.539977\n",
      "Cost after iteration 60: 0.510508\n",
      "Cost after iteration 70: 0.484192\n",
      "Cost after iteration 80: 0.460030\n",
      "Cost after iteration 90: 0.438919\n",
      "Cost after iteration 100: 0.417184\n",
      "Cost after iteration 110: 0.399643\n",
      "Cost after iteration 120: 0.382522\n",
      "Cost after iteration 130: 0.367038\n",
      "Cost after iteration 140: 0.353217\n",
      "Cost after iteration 150: 0.339059\n",
      "Cost after iteration 160: 0.319820\n",
      "Cost after iteration 170: 0.307791\n",
      "Cost after iteration 180: 0.292751\n",
      "Cost after iteration 190: 0.280245\n",
      "Cost after iteration 200: 0.269183\n",
      "Cost after iteration 210: 0.267670\n",
      "Cost after iteration 220: 0.262562\n",
      "Cost after iteration 230: 0.234577\n",
      "Cost after iteration 240: 0.224990\n",
      "Cost after iteration 250: 0.205502\n",
      "Cost after iteration 260: 0.197810\n",
      "Cost after iteration 270: 0.195853\n",
      "Cost after iteration 280: 0.179252\n",
      "Cost after iteration 290: 0.187455\n"
     ]
    },
    {
     "data": {
      "image/png": "[encoded data removed]",
      "text/plain": [
       "<Figure size 432x288 with 1 Axes>"
      ]
     },
     "metadata": {
      "needs_background": "light"
     },
     "output_type": "display_data"
    }
   ],
   "source": [
    "net.SGD(training_data)"
   ]
  },
  {
   "cell_type": "code",
   "execution_count": 59,
   "metadata": {},
   "outputs": [],
   "source": [
    "#net.save(filename='net')"
   ]
  },
  {
   "cell_type": "code",
   "execution_count": 14,
   "metadata": {},
   "outputs": [],
   "source": [
    "#net.load(filename='net')"
   ]
  },
  {
   "cell_type": "code",
   "execution_count": 58,
   "metadata": {},
   "outputs": [
    {
     "data": {
      "text/plain": [
       "0.8832828282828283"
      ]
     },
     "execution_count": 58,
     "metadata": {},
     "output_type": "execute_result"
    }
   ],
   "source": [
    "pred = net.predict(X_test.T)\n",
    "pred = np.argmax(pred, axis=0)\n",
    "accuracy_score(y_test, pred)"
   ]
  },
  {
   "cell_type": "markdown",
   "metadata": {},
   "source": [
    "#### Relu as activation function in hidden layer"
   ]
  },
  {
   "cell_type": "code",
   "execution_count": 198,
   "metadata": {},
   "outputs": [],
   "source": [
    "net1 = NeuralNetwork(layer_dims = [X_train.shape[1], 100,100, 10], itr = 300)"
   ]
  },
  {
   "cell_type": "code",
   "execution_count": 189,
   "metadata": {},
   "outputs": [
    {
     "name": "stdout",
     "output_type": "stream",
     "text": [
      "Cost after iteration 10: 0.775355\n",
      "Cost after iteration 20: 0.653654\n",
      "Cost after iteration 30: 0.588259\n",
      "Cost after iteration 40: 0.540112\n",
      "Cost after iteration 50: 0.500674\n",
      "Cost after iteration 60: 0.471868\n"
     ]
    },
    {
     "name": "stderr",
     "output_type": "stream",
     "text": [
      "/home/neil/.local/lib/python3.6/site-packages/ipykernel_launcher.py:129: RuntimeWarning: divide by zero encountered in log\n",
      "/home/neil/.local/lib/python3.6/site-packages/ipykernel_launcher.py:102: RuntimeWarning: invalid value encountered in true_divide\n"
     ]
    },
    {
     "name": "stdout",
     "output_type": "stream",
     "text": [
      "Cost after iteration 70: 0.447580\n",
      "Cost after iteration 80: 0.426964\n",
      "Cost after iteration 90: 0.411245\n",
      "Cost after iteration 100: 0.380879\n",
      "Cost after iteration 110: 0.381549\n",
      "Cost after iteration 120: 0.349045\n",
      "Cost after iteration 130: 0.337850\n",
      "Cost after iteration 140: 0.315883\n",
      "Cost after iteration 150: 0.301691\n",
      "Cost after iteration 160: 0.299342\n",
      "Cost after iteration 170: 0.282770\n",
      "Cost after iteration 180: 0.273680\n",
      "Cost after iteration 190: 0.258164\n",
      "Cost after iteration 200: 0.238707\n",
      "Cost after iteration 210: 0.289563\n",
      "Cost after iteration 220: 0.252015\n",
      "Cost after iteration 230: 0.298048\n",
      "Cost after iteration 240: 0.213997\n",
      "Cost after iteration 250: 0.431062\n",
      "Cost after iteration 260: 0.263358\n",
      "Cost after iteration 270: 0.238791\n",
      "Cost after iteration 280: 0.214722\n",
      "Cost after iteration 290: 0.285241\n",
      "Cost after iteration 300: 0.199673\n"
     ]
    },
    {
     "data": {
      "image/png": "[encoded data removed]",
      "text/plain": [
       "<Figure size 432x288 with 1 Axes>"
      ]
     },
     "metadata": {
      "needs_background": "light"
     },
     "output_type": "display_data"
    }
   ],
   "source": [
    "net1.SGD(training_data, print_cost=True)"
   ]
  },
  {
   "cell_type": "code",
   "execution_count": 166,
   "metadata": {},
   "outputs": [],
   "source": [
    "#net1.save(filename='net12')"
   ]
  },
  {
   "cell_type": "code",
   "execution_count": 120,
   "metadata": {},
   "outputs": [],
   "source": [
    "#net1.load(filename='net1')"
   ]
  },
  {
   "cell_type": "code",
   "execution_count": 192,
   "metadata": {},
   "outputs": [
    {
     "data": {
      "text/plain": [
       "0.8834848484848485"
      ]
     },
     "execution_count": 192,
     "metadata": {},
     "output_type": "execute_result"
    }
   ],
   "source": [
    "pred = net1.predict(X_test.T)\n",
    "pred = np.argmax(pred, axis=0)\n",
    "accuracy_score(y_test, pred)"
   ]
  },
  {
   "cell_type": "markdown",
   "metadata": {},
   "source": [
    "#### Sigmoid function as activation function in hidden layers"
   ]
  },
  {
   "cell_type": "code",
   "execution_count": 201,
   "metadata": {},
   "outputs": [],
   "source": [
    "net2 = NeuralNetwork(layer_dims = [X_train.shape[1], 100, 100, 10], itr = 300, activation='sigmoid')"
   ]
  },
  {
   "cell_type": "code",
   "execution_count": 202,
   "metadata": {},
   "outputs": [
    {
     "name": "stdout",
     "output_type": "stream",
     "text": [
      "Cost after iteration 10: 1.661318\n",
      "Cost after iteration 20: 1.174798\n",
      "Cost after iteration 30: 1.001998\n",
      "Cost after iteration 40: 0.909742\n",
      "Cost after iteration 50: 0.848181\n",
      "Cost after iteration 60: 0.804097\n",
      "Cost after iteration 70: 0.770759\n",
      "Cost after iteration 80: 0.743875\n",
      "Cost after iteration 90: 0.721087\n",
      "Cost after iteration 100: 0.701151\n",
      "Cost after iteration 110: 0.683382\n",
      "Cost after iteration 120: 0.667349\n",
      "Cost after iteration 130: 0.652742\n",
      "Cost after iteration 140: 0.639318\n",
      "Cost after iteration 150: 0.626880\n",
      "Cost after iteration 160: 0.615271\n",
      "Cost after iteration 170: 0.604364\n",
      "Cost after iteration 180: 0.594056\n",
      "Cost after iteration 190: 0.584263\n",
      "Cost after iteration 200: 0.574916\n",
      "Cost after iteration 210: 0.565960\n",
      "Cost after iteration 220: 0.557356\n",
      "Cost after iteration 230: 0.549073\n",
      "Cost after iteration 240: 0.541085\n",
      "Cost after iteration 250: 0.533364\n",
      "Cost after iteration 260: 0.525881\n",
      "Cost after iteration 270: 0.518612\n",
      "Cost after iteration 280: 0.511533\n",
      "Cost after iteration 290: 0.504624\n",
      "Cost after iteration 300: 0.497870\n"
     ]
    },
    {
     "data": {
      "image/png": "[encoded data removed]",
      "text/plain": [
       "<Figure size 432x288 with 1 Axes>"
      ]
     },
     "metadata": {
      "needs_background": "light"
     },
     "output_type": "display_data"
    }
   ],
   "source": [
    "net2.SGD(training_data, print_cost=True)"
   ]
  },
  {
   "cell_type": "code",
   "execution_count": null,
   "metadata": {},
   "outputs": [],
   "source": [
    "#net2.load(filename='net2')"
   ]
  },
  {
   "cell_type": "code",
   "execution_count": 203,
   "metadata": {},
   "outputs": [
    {
     "data": {
      "text/plain": [
       "0.881010101010101"
      ]
     },
     "execution_count": 203,
     "metadata": {},
     "output_type": "execute_result"
    }
   ],
   "source": [
    "pred = net2.predict(X_test.T)\n",
    "pred = np.argmax(pred, axis=0)\n",
    "accuracy_score(y_test, pred)"
   ]
  },
  {
   "cell_type": "markdown",
   "metadata": {},
   "source": [
    "#### Multilayer perceptron using sklearn"
   ]
  },
  {
   "cell_type": "code",
   "execution_count": 135,
   "metadata": {},
   "outputs": [
    {
     "data": {
      "text/plain": [
       "MLPClassifier(activation='relu', alpha=1e-05, batch_size='auto', beta_1=0.9,\n",
       "       beta_2=0.999, early_stopping=False, epsilon=1e-08,\n",
       "       hidden_layer_sizes=(100, 100), learning_rate='constant',\n",
       "       learning_rate_init=0.001, max_iter=300, momentum=0.9,\n",
       "       n_iter_no_change=10, nesterovs_momentum=True, power_t=0.5,\n",
       "       random_state=None, shuffle=True, solver='lbfgs', tol=0.0001,\n",
       "       validation_fraction=0.1, verbose=False, warm_start=False)"
      ]
     },
     "execution_count": 135,
     "metadata": {},
     "output_type": "execute_result"
    }
   ],
   "source": [
    "from sklearn.neural_network import MLPClassifier\n",
    "clf = MLPClassifier(solver='lbfgs', alpha=1e-5, hidden_layer_sizes=(100, 100), max_iter=300)\n",
    "clf.fit(X_train, y_train)"
   ]
  },
  {
   "cell_type": "code",
   "execution_count": 143,
   "metadata": {},
   "outputs": [
    {
     "data": {
      "text/plain": [
       "0.8686363636363637"
      ]
     },
     "execution_count": 143,
     "metadata": {},
     "output_type": "execute_result"
    }
   ],
   "source": [
    "pred = clf.predict(X_test)\n",
    "#print(pred)\n",
    "pred = np.argmax(pred, axis=1)\n",
    "#print(pred)\n",
    "accuracy_score(y_test, pred)"
   ]
  },
  {
   "cell_type": "markdown",
   "metadata": {},
   "source": [
    "#### Loss vs layers graph"
   ]
  },
  {
   "cell_type": "code",
   "execution_count": 86,
   "metadata": {},
   "outputs": [
    {
     "name": "stderr",
     "output_type": "stream",
     "text": [
      "/home/neil/.local/lib/python3.6/site-packages/ipykernel_launcher.py:129: RuntimeWarning: divide by zero encountered in log\n",
      "/home/neil/.local/lib/python3.6/site-packages/ipykernel_launcher.py:102: RuntimeWarning: invalid value encountered in true_divide\n"
     ]
    }
   ],
   "source": [
    "c = []\n",
    "for i in range(1,10):\n",
    "    l = [X_train.shape[1]]\n",
    "    l.extend([10]*i)\n",
    "    l.extend([10])\n",
    "    #print(l)\n",
    "    net5 = NeuralNetwork(layer_dims = l, itr = 101)\n",
    "    c.append(net5.SGD(training_data))\n",
    "#     pred = net5.predict(X_test.T)\n",
    "#     pred = np.argmax(pred, axis=0)\n",
    "#     c.append(accuracy_score(y_test, pred))"
   ]
  },
  {
   "cell_type": "code",
   "execution_count": 88,
   "metadata": {},
   "outputs": [
    {
     "data": {
      "image/png": "[encoded data removed]",
      "text/plain": [
       "<Figure size 432x288 with 1 Axes>"
      ]
     },
     "metadata": {
      "needs_background": "light"
     },
     "output_type": "display_data"
    }
   ],
   "source": [
    "plt.plot(c)\n",
    "plt.ylabel('Error')\n",
    "plt.xlabel('layer')\n",
    "plt.title('Layer vs cost plot')\n",
    "plt.show()"
   ]
  },
  {
   "cell_type": "markdown",
   "metadata": {},
   "source": [
    "#### Error vs number of epoch graph"
   ]
  },
  {
   "cell_type": "code",
   "execution_count": 94,
   "metadata": {},
   "outputs": [],
   "source": [
    "d = []\n",
    "for i in range(11,101,10):\n",
    "    net5 = NeuralNetwork(layer_dims = [X_train.shape[1], 30, 30, 10], itr = i)\n",
    "    net5.SGD(training_data)\n",
    "    pred = net5.predict(X_test.T)\n",
    "    pred = np.argmax(pred, axis=0)\n",
    "    d.append(accuracy_score(y_test, pred))"
   ]
  },
  {
   "cell_type": "code",
   "execution_count": 167,
   "metadata": {},
   "outputs": [
    {
     "data": {
      "image/png": "[encoded data removed]",
      "text/plain": [
       "<Figure size 432x288 with 1 Axes>"
      ]
     },
     "metadata": {
      "needs_background": "light"
     },
     "output_type": "display_data"
    }
   ],
   "source": [
    "plt.plot(1-np.array(d))\n",
    "plt.ylabel('Error')\n",
    "plt.xlabel('epoch')\n",
    "plt.title('epoch vs error plot')\n",
    "plt.show()"
   ]
  },
  {
   "cell_type": "markdown",
   "metadata": {},
   "source": [
    "#### Prediction of test dataset"
   ]
  },
  {
   "cell_type": "code",
   "execution_count": 168,
   "metadata": {},
   "outputs": [],
   "source": [
    "test_df = pd.read_csv('Apparel/test.csv')\n",
    "test_df = test_df/255.0"
   ]
  },
  {
   "cell_type": "code",
   "execution_count": 204,
   "metadata": {},
   "outputs": [],
   "source": [
    "netr = NeuralNetwork(layer_dims = [X_train.shape[1], 100,100, 10], itr = 400)"
   ]
  },
  {
   "cell_type": "code",
   "execution_count": 205,
   "metadata": {},
   "outputs": [],
   "source": [
    "netr.load(filename='net1')"
   ]
  },
  {
   "cell_type": "code",
   "execution_count": 206,
   "metadata": {},
   "outputs": [],
   "source": [
    "pred = netr.predict(test_df.T)\n",
    "pred = np.argmax(pred, axis=0)"
   ]
  },
  {
   "cell_type": "code",
   "execution_count": 208,
   "metadata": {},
   "outputs": [],
   "source": [
    "p1 = clf.predict(test_df)\n",
    "p1 = np.argmax(p1, axis=1)"
   ]
  },
  {
   "cell_type": "code",
   "execution_count": 212,
   "metadata": {},
   "outputs": [
    {
     "data": {
      "text/plain": [
       "0.9058300599545173"
      ]
     },
     "execution_count": 212,
     "metadata": {},
     "output_type": "execute_result"
    }
   ],
   "source": [
    "accuracy_score(pred, p1)"
   ]
  },
  {
   "cell_type": "code",
   "execution_count": 210,
   "metadata": {},
   "outputs": [],
   "source": [
    "np.savetxt('res.csv', pred)"
   ]
  },
  {
   "cell_type": "markdown",
   "metadata": {},
   "source": [
    "## Question 2\n",
    "Consider the House Price Prediction dataset (Dataset Link). Suppose you\n",
    "need to predict the Sale Price of a house and for the task you want to use a neural\n",
    "network with 3 hidden layers. Write a report on how you would modify your above\n",
    "neural network for such task with proper reasoning."
   ]
  },
  {
   "cell_type": "markdown",
   "metadata": {},
   "source": [
    "Yes, we can use neural network for linear regression, then output layer should be $g(z) = z$ , apart from that we need to use quadratic loss for output layer and we can use relu for hidden layers. The flaw of using neural network for linear regression is, neural network just becomes a complex $f(x) = WX +b$ and so the usage of neural network is none for linear regression and it just wastes resources.\n",
    "\n",
    "So the changes that need to be made to use the neural network \n",
    "   - Make the ouput layer function as $g(z) = z$\n",
    "   - Use  quadractic loss function instead of cross entropy loss\n",
    "   - use one neuron in output layer as compared to 10 neurons"
   ]
  },
  {
   "cell_type": "code",
   "execution_count": null,
   "metadata": {},
   "outputs": [],
   "source": []
  }
 ],
 "metadata": {
  "kernelspec": {
   "display_name": "Python 3",
   "language": "python",
   "name": "python3"
  },
  "language_info": {
   "codemirror_mode": {
    "name": "ipython",
    "version": 3
   },
   "file_extension": ".py",
   "mimetype": "text/x-python",
   "name": "python",
   "nbconvert_exporter": "python",
   "pygments_lexer": "ipython3",
   "version": "3.6.7"
  }
 },
 "nbformat": 4,
 "nbformat_minor": 2
}
